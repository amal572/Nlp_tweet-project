{
  "cells": [
    {
      "cell_type": "markdown",
      "id": "e7efe140",
      "metadata": {
        "id": "e7efe140"
      },
      "source": [
        "# Step [1]: Prepare libraries and data"
      ]
    },
    {
      "cell_type": "markdown",
      "id": "8e9b1951",
      "metadata": {
        "id": "8e9b1951"
      },
      "source": [
        "## [1.1] Include important libraries"
      ]
    },
    {
      "cell_type": "code",
      "source": [
        "!pip install arabic-reshaper"
      ],
      "metadata": {
        "colab": {
          "base_uri": "https://localhost:8080/"
        },
        "id": "n6n8QddHWXBl",
        "outputId": "5f6daf08-9af7-4cb2-89f3-33a59a218027"
      },
      "id": "n6n8QddHWXBl",
      "execution_count": null,
      "outputs": [
        {
          "output_type": "stream",
          "name": "stdout",
          "text": [
            "Collecting arabic-reshaper\n",
            "  Downloading arabic_reshaper-2.1.3-py3-none-any.whl (20 kB)\n",
            "Requirement already satisfied: setuptools in /usr/local/lib/python3.7/dist-packages (from arabic-reshaper) (57.4.0)\n",
            "Requirement already satisfied: future in /usr/local/lib/python3.7/dist-packages (from arabic-reshaper) (0.16.0)\n",
            "Installing collected packages: arabic-reshaper\n",
            "Successfully installed arabic-reshaper-2.1.3\n"
          ]
        }
      ]
    },
    {
      "cell_type": "code",
      "source": [
        "!pip install wordcloud"
      ],
      "metadata": {
        "colab": {
          "base_uri": "https://localhost:8080/"
        },
        "id": "MisKL_HzWZ5I",
        "outputId": "bac5e4d0-5fec-45a3-cf84-ab92672d8387"
      },
      "id": "MisKL_HzWZ5I",
      "execution_count": null,
      "outputs": [
        {
          "output_type": "stream",
          "name": "stdout",
          "text": [
            "Requirement already satisfied: wordcloud in /usr/local/lib/python3.7/dist-packages (1.5.0)\n",
            "Requirement already satisfied: numpy>=1.6.1 in /usr/local/lib/python3.7/dist-packages (from wordcloud) (1.19.5)\n",
            "Requirement already satisfied: pillow in /usr/local/lib/python3.7/dist-packages (from wordcloud) (7.1.2)\n"
          ]
        }
      ]
    },
    {
      "cell_type": "code",
      "source": [
        "!pip install PyArabic"
      ],
      "metadata": {
        "colab": {
          "base_uri": "https://localhost:8080/"
        },
        "id": "X8xZ5Y33Wcra",
        "outputId": "c1d521f7-20e9-4393-e31d-edf1fd9f79b4"
      },
      "id": "X8xZ5Y33Wcra",
      "execution_count": null,
      "outputs": [
        {
          "output_type": "stream",
          "name": "stdout",
          "text": [
            "Collecting PyArabic\n",
            "  Downloading PyArabic-0.6.14-py3-none-any.whl (126 kB)\n",
            "\u001b[?25l\r\u001b[K     |██▋                             | 10 kB 15.4 MB/s eta 0:00:01\r\u001b[K     |█████▏                          | 20 kB 13.9 MB/s eta 0:00:01\r\u001b[K     |███████▉                        | 30 kB 9.4 MB/s eta 0:00:01\r\u001b[K     |██████████▍                     | 40 kB 8.2 MB/s eta 0:00:01\r\u001b[K     |█████████████                   | 51 kB 5.7 MB/s eta 0:00:01\r\u001b[K     |███████████████▋                | 61 kB 5.7 MB/s eta 0:00:01\r\u001b[K     |██████████████████▏             | 71 kB 5.4 MB/s eta 0:00:01\r\u001b[K     |████████████████████▊           | 81 kB 5.9 MB/s eta 0:00:01\r\u001b[K     |███████████████████████▍        | 92 kB 6.2 MB/s eta 0:00:01\r\u001b[K     |██████████████████████████      | 102 kB 5.4 MB/s eta 0:00:01\r\u001b[K     |████████████████████████████▌   | 112 kB 5.4 MB/s eta 0:00:01\r\u001b[K     |███████████████████████████████▏| 122 kB 5.4 MB/s eta 0:00:01\r\u001b[K     |████████████████████████████████| 126 kB 5.4 MB/s \n",
            "\u001b[?25hRequirement already satisfied: six>=1.14.0 in /usr/local/lib/python3.7/dist-packages (from PyArabic) (1.15.0)\n",
            "Installing collected packages: PyArabic\n",
            "Successfully installed PyArabic-0.6.14\n"
          ]
        }
      ]
    },
    {
      "cell_type": "code",
      "source": [
        "!pip install python-bidi"
      ],
      "metadata": {
        "colab": {
          "base_uri": "https://localhost:8080/"
        },
        "id": "fL8dSG_7WggP",
        "outputId": "46a1ddc0-50c7-4b26-bc4e-4814135ddf4d"
      },
      "id": "fL8dSG_7WggP",
      "execution_count": null,
      "outputs": [
        {
          "output_type": "stream",
          "name": "stdout",
          "text": [
            "Collecting python-bidi\n",
            "  Downloading python_bidi-0.4.2-py2.py3-none-any.whl (30 kB)\n",
            "Requirement already satisfied: six in /usr/local/lib/python3.7/dist-packages (from python-bidi) (1.15.0)\n",
            "Installing collected packages: python-bidi\n",
            "Successfully installed python-bidi-0.4.2\n"
          ]
        }
      ]
    },
    {
      "cell_type": "code",
      "source": [
        "!pip install qalsadi"
      ],
      "metadata": {
        "colab": {
          "base_uri": "https://localhost:8080/"
        },
        "id": "1OH6M8_FWjiZ",
        "outputId": "e0aaffa6-4d90-4aec-cb04-a8633b46eab4"
      },
      "id": "1OH6M8_FWjiZ",
      "execution_count": null,
      "outputs": [
        {
          "output_type": "stream",
          "name": "stdout",
          "text": [
            "Collecting qalsadi\n",
            "  Downloading qalsadi-0.4.4-py3-none-any.whl (257 kB)\n",
            "\u001b[K     |████████████████████████████████| 257 kB 5.4 MB/s \n",
            "\u001b[?25hCollecting arramooz-pysqlite>=0.3\n",
            "  Downloading arramooz_pysqlite-0.3-py3-none-any.whl (9.2 MB)\n",
            "\u001b[K     |████████████████████████████████| 9.2 MB 45.4 MB/s \n",
            "\u001b[?25hRequirement already satisfied: pyarabic>=0.6.7 in /usr/local/lib/python3.7/dist-packages (from qalsadi) (0.6.14)\n",
            "Requirement already satisfied: future>=0.16.0 in /usr/local/lib/python3.7/dist-packages (from qalsadi) (0.16.0)\n",
            "Collecting Arabic-Stopwords>=0.3\n",
            "  Downloading Arabic_Stopwords-0.3-py3-none-any.whl (353 kB)\n",
            "\u001b[K     |████████████████████████████████| 353 kB 44.7 MB/s \n",
            "\u001b[?25hCollecting libqutrub>=1.2.3\n",
            "  Downloading libqutrub-1.2.4.1-py3-none-any.whl (138 kB)\n",
            "\u001b[K     |████████████████████████████████| 138 kB 57.2 MB/s \n",
            "\u001b[?25hCollecting naftawayh>=0.3\n",
            "  Downloading Naftawayh-0.4-py3-none-any.whl (332 kB)\n",
            "\u001b[K     |████████████████████████████████| 332 kB 39.0 MB/s \n",
            "\u001b[?25hRequirement already satisfied: six>=1.10.0 in /usr/local/lib/python3.7/dist-packages (from qalsadi) (1.15.0)\n",
            "Collecting tashaphyne>=0.3.4.1\n",
            "  Downloading Tashaphyne-0.3.4.1-py3-none-any.whl (244 kB)\n",
            "\u001b[K     |████████████████████████████████| 244 kB 22.7 MB/s \n",
            "\u001b[?25hCollecting pickledb>=0.9.2\n",
            "  Downloading pickleDB-0.9.2.tar.gz (3.7 kB)\n",
            "Collecting alyahmor>=0.1\n",
            "  Downloading alyahmor-0.1.2-py3-none-any.whl (50 kB)\n",
            "\u001b[K     |████████████████████████████████| 50 kB 5.6 MB/s \n",
            "\u001b[?25hBuilding wheels for collected packages: pickledb\n",
            "  Building wheel for pickledb (setup.py) ... \u001b[?25l\u001b[?25hdone\n",
            "  Created wheel for pickledb: filename=pickleDB-0.9.2-py3-none-any.whl size=4268 sha256=75c7f43e65e9bea0574253539f9314a75e5d6e19b9d9ccfc8e445e7492400fbf\n",
            "  Stored in directory: /root/.cache/pip/wheels/08/34/42/9a7f94099208ce3d32638d98586a5a50f821db2fc75a3bdaae\n",
            "Successfully built pickledb\n",
            "Installing collected packages: tashaphyne, libqutrub, pickledb, naftawayh, arramooz-pysqlite, Arabic-Stopwords, alyahmor, qalsadi\n",
            "Successfully installed Arabic-Stopwords-0.3 alyahmor-0.1.2 arramooz-pysqlite-0.3 libqutrub-1.2.4.1 naftawayh-0.4 pickledb-0.9.2 qalsadi-0.4.4 tashaphyne-0.3.4.1\n"
          ]
        }
      ]
    },
    {
      "cell_type": "code",
      "source": [
        "from google.colab import drive\n",
        "drive.mount('/content/drive')"
      ],
      "metadata": {
        "colab": {
          "base_uri": "https://localhost:8080/"
        },
        "id": "83McUbNOSWRE",
        "outputId": "6d161584-40d3-411b-e550-b4c4b51e05e5"
      },
      "id": "83McUbNOSWRE",
      "execution_count": null,
      "outputs": [
        {
          "output_type": "stream",
          "name": "stdout",
          "text": [
            "Mounted at /content/drive\n"
          ]
        }
      ]
    },
    {
      "cell_type": "code",
      "source": [
        "from zipfile import ZipFile\n",
        "file_name=\"/content/drive/MyDrive/TwtSG.zip\"\n",
        "with ZipFile (file_name,'r') as zip:\n",
        "   zip.extractall()\n",
        "   print('Done')"
      ],
      "metadata": {
        "colab": {
          "base_uri": "https://localhost:8080/"
        },
        "id": "xaIoVOkoSXFI",
        "outputId": "7aaaa386-9c2d-4a89-a1bd-62f1c4564bc7"
      },
      "id": "xaIoVOkoSXFI",
      "execution_count": null,
      "outputs": [
        {
          "output_type": "stream",
          "name": "stdout",
          "text": [
            "Done\n"
          ]
        }
      ]
    },
    {
      "cell_type": "code",
      "execution_count": null,
      "id": "af6058ed",
      "metadata": {
        "id": "af6058ed",
        "colab": {
          "base_uri": "https://localhost:8080/"
        },
        "outputId": "a4dede50-4a82-404a-d0d0-ed8be8d793a9"
      },
      "outputs": [
        {
          "output_type": "stream",
          "name": "stdout",
          "text": [
            "[nltk_data] Downloading package wordnet to /root/nltk_data...\n",
            "[nltk_data]   Unzipping corpora/wordnet.zip.\n"
          ]
        },
        {
          "output_type": "execute_result",
          "data": {
            "text/plain": [
              "True"
            ]
          },
          "metadata": {},
          "execution_count": 7
        }
      ],
      "source": [
        "import nltk\n",
        "import re\n",
        "import pandas as pd\n",
        "import numpy as np\n",
        "import matplotlib.pyplot as plt           \n",
        "import matplotlib\n",
        "from wordcloud import WordCloud\n",
        "from collections import Counter\n",
        "#from bidi.algorithm import get_display   \n",
        "#from arabic_reshaper import reshape\n",
        "from nltk.tokenize import TweetTokenizer\n",
        "#import pyarabic.araby as araby\n",
        "#import pyarabic\n",
        "from nltk.tokenize import word_tokenize\n",
        "#from tashaphyne.stemming import ArabicLightStemmer\n",
        "#import qalsadi.lemmatizer\n",
        "from nltk.corpus import stopwords\n",
        "import string\n",
        "from sklearn.model_selection import train_test_split\n",
        "from sklearn.feature_extraction.text import TfidfVectorizer\n",
        "from sklearn.feature_extraction.text import CountVectorizer\n",
        "from sklearn.model_selection import train_test_split\n",
        "from keras.layers import Dense, Activation, Dropout, Input, LSTM, Reshape, Lambda, RepeatVector,Bidirectional,GRU\n",
        "from keras.layers import Dense, LSTM, InputLayer, Bidirectional, TimeDistributed, Embedding, Activation,SpatialDropout1D\n",
        "from keras import regularizers\n",
        "from nltk.tokenize import word_tokenize\n",
        "from collections import Counter\n",
        "import gensim\n",
        "import re\n",
        "import pyarabic.araby as araby\n",
        "import tashaphyne.arabic_const as arabconst\n",
        "from sklearn.metrics import accuracy_score\n",
        "nltk.download('wordnet')"
      ]
    },
    {
      "cell_type": "code",
      "source": [
        "# load the model\n",
        "model = gensim.models.Word2Vec.load('TwtSG/Twt-SG')"
      ],
      "metadata": {
        "id": "-z4h48OfSsgW"
      },
      "id": "-z4h48OfSsgW",
      "execution_count": null,
      "outputs": []
    },
    {
      "cell_type": "code",
      "source": [
        "nltk.download('stopwords')"
      ],
      "metadata": {
        "colab": {
          "base_uri": "https://localhost:8080/"
        },
        "id": "XcOnbCfXM1j9",
        "outputId": "99799950-620c-47df-da3a-91e750443082"
      },
      "id": "XcOnbCfXM1j9",
      "execution_count": null,
      "outputs": [
        {
          "output_type": "stream",
          "name": "stdout",
          "text": [
            "[nltk_data] Downloading package stopwords to /root/nltk_data...\n",
            "[nltk_data]   Unzipping corpora/stopwords.zip.\n"
          ]
        },
        {
          "output_type": "execute_result",
          "data": {
            "text/plain": [
              "True"
            ]
          },
          "metadata": {},
          "execution_count": 8
        }
      ]
    },
    {
      "cell_type": "markdown",
      "id": "229df102",
      "metadata": {
        "id": "229df102"
      },
      "source": [
        "## [1.2] Download data"
      ]
    },
    {
      "cell_type": "code",
      "execution_count": null,
      "id": "5504e7ee",
      "metadata": {
        "colab": {
          "base_uri": "https://localhost:8080/"
        },
        "id": "5504e7ee",
        "outputId": "4845cc03-389b-443a-e3a0-ef274a80f576"
      },
      "outputs": [
        {
          "output_type": "stream",
          "name": "stdout",
          "text": [
            "--2021-12-19 14:58:36--  https://drive.google.com/uc?export=download&id=1KepfzAhJ7dloG8XaWQf0ovQipDHYS8aI\n",
            "Resolving drive.google.com (drive.google.com)... 173.194.74.101, 173.194.74.102, 173.194.74.139, ...\n",
            "Connecting to drive.google.com (drive.google.com)|173.194.74.101|:443... connected.\n",
            "HTTP request sent, awaiting response... 302 Moved Temporarily\n",
            "Location: https://doc-0o-00-docs.googleusercontent.com/docs/securesc/ha0ro937gcuc7l7deffksulhg5h7mbp1/h1m2l3de23btabg3ro3cfn6ee1hb9ol6/1639925850000/04260309330816471542/*/1KepfzAhJ7dloG8XaWQf0ovQipDHYS8aI?e=download [following]\n",
            "Warning: wildcards not supported in HTTP.\n",
            "--2021-12-19 14:58:38--  https://doc-0o-00-docs.googleusercontent.com/docs/securesc/ha0ro937gcuc7l7deffksulhg5h7mbp1/h1m2l3de23btabg3ro3cfn6ee1hb9ol6/1639925850000/04260309330816471542/*/1KepfzAhJ7dloG8XaWQf0ovQipDHYS8aI?e=download\n",
            "Resolving doc-0o-00-docs.googleusercontent.com (doc-0o-00-docs.googleusercontent.com)... 74.125.70.132, 2607:f8b0:4001:c02::84\n",
            "Connecting to doc-0o-00-docs.googleusercontent.com (doc-0o-00-docs.googleusercontent.com)|74.125.70.132|:443... connected.\n",
            "HTTP request sent, awaiting response... 200 OK\n",
            "Length: 2962196 (2.8M) [application/zip]\n",
            "Saving to: ‘final_data.zip’\n",
            "\n",
            "final_data.zip      100%[===================>]   2.82M  --.-KB/s    in 0.02s   \n",
            "\n",
            "2021-12-19 14:58:38 (151 MB/s) - ‘final_data.zip’ saved [2962196/2962196]\n",
            "\n"
          ]
        }
      ],
      "source": [
        "!wget 'https://drive.google.com/uc?export=download&id=1KepfzAhJ7dloG8XaWQf0ovQipDHYS8aI' -O 'final_data.zip'"
      ]
    },
    {
      "cell_type": "code",
      "execution_count": null,
      "id": "530e1bac",
      "metadata": {
        "colab": {
          "base_uri": "https://localhost:8080/"
        },
        "id": "530e1bac",
        "outputId": "29ee0fe5-3e2d-4e74-963b-f8e3c4374e16"
      },
      "outputs": [
        {
          "output_type": "stream",
          "name": "stdout",
          "text": [
            "Archive:  final_data.zip\n",
            "  inflating: test.csv                \n",
            "  inflating: train.csv               \n",
            "  inflating: valid.csv               \n"
          ]
        }
      ],
      "source": [
        "!unzip final_data.zip"
      ]
    },
    {
      "cell_type": "markdown",
      "id": "3400638b",
      "metadata": {
        "id": "3400638b"
      },
      "source": [
        "## [1.3] read data from csv file"
      ]
    },
    {
      "cell_type": "code",
      "execution_count": null,
      "id": "d41a9612",
      "metadata": {
        "id": "d41a9612"
      },
      "outputs": [],
      "source": [
        "test = pd.read_csv('test.csv')"
      ]
    },
    {
      "cell_type": "code",
      "source": [
        "train = pd.read_csv('train.csv')"
      ],
      "metadata": {
        "id": "OlATytYwxnei"
      },
      "id": "OlATytYwxnei",
      "execution_count": null,
      "outputs": []
    },
    {
      "cell_type": "code",
      "source": [
        "valid = pd.read_csv('valid.csv')"
      ],
      "metadata": {
        "id": "jVLeApSixql6"
      },
      "id": "jVLeApSixql6",
      "execution_count": null,
      "outputs": []
    },
    {
      "cell_type": "code",
      "source": [
        "train.head()"
      ],
      "metadata": {
        "colab": {
          "base_uri": "https://localhost:8080/",
          "height": 206
        },
        "id": "uwf0NDn2xtus",
        "outputId": "a9bb1726-c80e-4e42-8a19-c5ac671ef8cc"
      },
      "id": "uwf0NDn2xtus",
      "execution_count": null,
      "outputs": [
        {
          "output_type": "execute_result",
          "data": {
            "text/html": [
              "\n",
              "  <div id=\"df-75ec1f5f-7afd-4b0f-adc3-4725dea716c3\">\n",
              "    <div class=\"colab-df-container\">\n",
              "      <div>\n",
              "<style scoped>\n",
              "    .dataframe tbody tr th:only-of-type {\n",
              "        vertical-align: middle;\n",
              "    }\n",
              "\n",
              "    .dataframe tbody tr th {\n",
              "        vertical-align: top;\n",
              "    }\n",
              "\n",
              "    .dataframe thead th {\n",
              "        text-align: right;\n",
              "    }\n",
              "</style>\n",
              "<table border=\"1\" class=\"dataframe\">\n",
              "  <thead>\n",
              "    <tr style=\"text-align: right;\">\n",
              "      <th></th>\n",
              "      <th>tweet</th>\n",
              "      <th>label</th>\n",
              "    </tr>\n",
              "  </thead>\n",
              "  <tbody>\n",
              "    <tr>\n",
              "      <th>0</th>\n",
              "      <td>#تبني_قطط_انقاذ من الخاص هاااام كيتن أنثى عمره...</td>\n",
              "      <td>2</td>\n",
              "    </tr>\n",
              "    <tr>\n",
              "      <th>1</th>\n",
              "      <td>'#خذ_الخطوة_خذ_اللقاح \\nالحمدالله من قبل ومن ب...</td>\n",
              "      <td>1</td>\n",
              "    </tr>\n",
              "    <tr>\n",
              "      <th>2</th>\n",
              "      <td>لو اللي مثلك وشرواك طعمو كان قد حذفنا الكمامات...</td>\n",
              "      <td>1</td>\n",
              "    </tr>\n",
              "    <tr>\n",
              "      <th>3</th>\n",
              "      <td>#الصحة:•نحو 14.5 مليون شخص تم إعطاؤهم جرعة لقا...</td>\n",
              "      <td>1</td>\n",
              "    </tr>\n",
              "    <tr>\n",
              "      <th>4</th>\n",
              "      <td>• في منظور القوة البشرية ( الأزمة ستطول لأشهر ...</td>\n",
              "      <td>3</td>\n",
              "    </tr>\n",
              "  </tbody>\n",
              "</table>\n",
              "</div>\n",
              "      <button class=\"colab-df-convert\" onclick=\"convertToInteractive('df-75ec1f5f-7afd-4b0f-adc3-4725dea716c3')\"\n",
              "              title=\"Convert this dataframe to an interactive table.\"\n",
              "              style=\"display:none;\">\n",
              "        \n",
              "  <svg xmlns=\"http://www.w3.org/2000/svg\" height=\"24px\"viewBox=\"0 0 24 24\"\n",
              "       width=\"24px\">\n",
              "    <path d=\"M0 0h24v24H0V0z\" fill=\"none\"/>\n",
              "    <path d=\"M18.56 5.44l.94 2.06.94-2.06 2.06-.94-2.06-.94-.94-2.06-.94 2.06-2.06.94zm-11 1L8.5 8.5l.94-2.06 2.06-.94-2.06-.94L8.5 2.5l-.94 2.06-2.06.94zm10 10l.94 2.06.94-2.06 2.06-.94-2.06-.94-.94-2.06-.94 2.06-2.06.94z\"/><path d=\"M17.41 7.96l-1.37-1.37c-.4-.4-.92-.59-1.43-.59-.52 0-1.04.2-1.43.59L10.3 9.45l-7.72 7.72c-.78.78-.78 2.05 0 2.83L4 21.41c.39.39.9.59 1.41.59.51 0 1.02-.2 1.41-.59l7.78-7.78 2.81-2.81c.8-.78.8-2.07 0-2.86zM5.41 20L4 18.59l7.72-7.72 1.47 1.35L5.41 20z\"/>\n",
              "  </svg>\n",
              "      </button>\n",
              "      \n",
              "  <style>\n",
              "    .colab-df-container {\n",
              "      display:flex;\n",
              "      flex-wrap:wrap;\n",
              "      gap: 12px;\n",
              "    }\n",
              "\n",
              "    .colab-df-convert {\n",
              "      background-color: #E8F0FE;\n",
              "      border: none;\n",
              "      border-radius: 50%;\n",
              "      cursor: pointer;\n",
              "      display: none;\n",
              "      fill: #1967D2;\n",
              "      height: 32px;\n",
              "      padding: 0 0 0 0;\n",
              "      width: 32px;\n",
              "    }\n",
              "\n",
              "    .colab-df-convert:hover {\n",
              "      background-color: #E2EBFA;\n",
              "      box-shadow: 0px 1px 2px rgba(60, 64, 67, 0.3), 0px 1px 3px 1px rgba(60, 64, 67, 0.15);\n",
              "      fill: #174EA6;\n",
              "    }\n",
              "\n",
              "    [theme=dark] .colab-df-convert {\n",
              "      background-color: #3B4455;\n",
              "      fill: #D2E3FC;\n",
              "    }\n",
              "\n",
              "    [theme=dark] .colab-df-convert:hover {\n",
              "      background-color: #434B5C;\n",
              "      box-shadow: 0px 1px 3px 1px rgba(0, 0, 0, 0.15);\n",
              "      filter: drop-shadow(0px 1px 2px rgba(0, 0, 0, 0.3));\n",
              "      fill: #FFFFFF;\n",
              "    }\n",
              "  </style>\n",
              "\n",
              "      <script>\n",
              "        const buttonEl =\n",
              "          document.querySelector('#df-75ec1f5f-7afd-4b0f-adc3-4725dea716c3 button.colab-df-convert');\n",
              "        buttonEl.style.display =\n",
              "          google.colab.kernel.accessAllowed ? 'block' : 'none';\n",
              "\n",
              "        async function convertToInteractive(key) {\n",
              "          const element = document.querySelector('#df-75ec1f5f-7afd-4b0f-adc3-4725dea716c3');\n",
              "          const dataTable =\n",
              "            await google.colab.kernel.invokeFunction('convertToInteractive',\n",
              "                                                     [key], {});\n",
              "          if (!dataTable) return;\n",
              "\n",
              "          const docLinkHtml = 'Like what you see? Visit the ' +\n",
              "            '<a target=\"_blank\" href=https://colab.research.google.com/notebooks/data_table.ipynb>data table notebook</a>'\n",
              "            + ' to learn more about interactive tables.';\n",
              "          element.innerHTML = '';\n",
              "          dataTable['output_type'] = 'display_data';\n",
              "          await google.colab.output.renderOutput(dataTable, element);\n",
              "          const docLink = document.createElement('div');\n",
              "          docLink.innerHTML = docLinkHtml;\n",
              "          element.appendChild(docLink);\n",
              "        }\n",
              "      </script>\n",
              "    </div>\n",
              "  </div>\n",
              "  "
            ],
            "text/plain": [
              "                                               tweet  label\n",
              "0  #تبني_قطط_انقاذ من الخاص هاااام كيتن أنثى عمره...      2\n",
              "1  '#خذ_الخطوة_خذ_اللقاح \\nالحمدالله من قبل ومن ب...      1\n",
              "2  لو اللي مثلك وشرواك طعمو كان قد حذفنا الكمامات...      1\n",
              "3  #الصحة:•نحو 14.5 مليون شخص تم إعطاؤهم جرعة لقا...      1\n",
              "4  • في منظور القوة البشرية ( الأزمة ستطول لأشهر ...      3"
            ]
          },
          "metadata": {},
          "execution_count": 14
        }
      ]
    },
    {
      "cell_type": "code",
      "source": [
        "train[train.isnull().any(axis=1)]"
      ],
      "metadata": {
        "colab": {
          "base_uri": "https://localhost:8080/",
          "height": 81
        },
        "id": "HJoEgGJIrZKx",
        "outputId": "ead05ac8-e350-4918-aa32-ca8c3cd71889"
      },
      "id": "HJoEgGJIrZKx",
      "execution_count": null,
      "outputs": [
        {
          "output_type": "execute_result",
          "data": {
            "text/html": [
              "\n",
              "  <div id=\"df-7123dfbd-2144-40d0-9e4d-2df4e267b4c0\">\n",
              "    <div class=\"colab-df-container\">\n",
              "      <div>\n",
              "<style scoped>\n",
              "    .dataframe tbody tr th:only-of-type {\n",
              "        vertical-align: middle;\n",
              "    }\n",
              "\n",
              "    .dataframe tbody tr th {\n",
              "        vertical-align: top;\n",
              "    }\n",
              "\n",
              "    .dataframe thead th {\n",
              "        text-align: right;\n",
              "    }\n",
              "</style>\n",
              "<table border=\"1\" class=\"dataframe\">\n",
              "  <thead>\n",
              "    <tr style=\"text-align: right;\">\n",
              "      <th></th>\n",
              "      <th>tweet</th>\n",
              "      <th>label</th>\n",
              "    </tr>\n",
              "  </thead>\n",
              "  <tbody>\n",
              "    <tr>\n",
              "      <th>4597</th>\n",
              "      <td>NaN</td>\n",
              "      <td>2</td>\n",
              "    </tr>\n",
              "  </tbody>\n",
              "</table>\n",
              "</div>\n",
              "      <button class=\"colab-df-convert\" onclick=\"convertToInteractive('df-7123dfbd-2144-40d0-9e4d-2df4e267b4c0')\"\n",
              "              title=\"Convert this dataframe to an interactive table.\"\n",
              "              style=\"display:none;\">\n",
              "        \n",
              "  <svg xmlns=\"http://www.w3.org/2000/svg\" height=\"24px\"viewBox=\"0 0 24 24\"\n",
              "       width=\"24px\">\n",
              "    <path d=\"M0 0h24v24H0V0z\" fill=\"none\"/>\n",
              "    <path d=\"M18.56 5.44l.94 2.06.94-2.06 2.06-.94-2.06-.94-.94-2.06-.94 2.06-2.06.94zm-11 1L8.5 8.5l.94-2.06 2.06-.94-2.06-.94L8.5 2.5l-.94 2.06-2.06.94zm10 10l.94 2.06.94-2.06 2.06-.94-2.06-.94-.94-2.06-.94 2.06-2.06.94z\"/><path d=\"M17.41 7.96l-1.37-1.37c-.4-.4-.92-.59-1.43-.59-.52 0-1.04.2-1.43.59L10.3 9.45l-7.72 7.72c-.78.78-.78 2.05 0 2.83L4 21.41c.39.39.9.59 1.41.59.51 0 1.02-.2 1.41-.59l7.78-7.78 2.81-2.81c.8-.78.8-2.07 0-2.86zM5.41 20L4 18.59l7.72-7.72 1.47 1.35L5.41 20z\"/>\n",
              "  </svg>\n",
              "      </button>\n",
              "      \n",
              "  <style>\n",
              "    .colab-df-container {\n",
              "      display:flex;\n",
              "      flex-wrap:wrap;\n",
              "      gap: 12px;\n",
              "    }\n",
              "\n",
              "    .colab-df-convert {\n",
              "      background-color: #E8F0FE;\n",
              "      border: none;\n",
              "      border-radius: 50%;\n",
              "      cursor: pointer;\n",
              "      display: none;\n",
              "      fill: #1967D2;\n",
              "      height: 32px;\n",
              "      padding: 0 0 0 0;\n",
              "      width: 32px;\n",
              "    }\n",
              "\n",
              "    .colab-df-convert:hover {\n",
              "      background-color: #E2EBFA;\n",
              "      box-shadow: 0px 1px 2px rgba(60, 64, 67, 0.3), 0px 1px 3px 1px rgba(60, 64, 67, 0.15);\n",
              "      fill: #174EA6;\n",
              "    }\n",
              "\n",
              "    [theme=dark] .colab-df-convert {\n",
              "      background-color: #3B4455;\n",
              "      fill: #D2E3FC;\n",
              "    }\n",
              "\n",
              "    [theme=dark] .colab-df-convert:hover {\n",
              "      background-color: #434B5C;\n",
              "      box-shadow: 0px 1px 3px 1px rgba(0, 0, 0, 0.15);\n",
              "      filter: drop-shadow(0px 1px 2px rgba(0, 0, 0, 0.3));\n",
              "      fill: #FFFFFF;\n",
              "    }\n",
              "  </style>\n",
              "\n",
              "      <script>\n",
              "        const buttonEl =\n",
              "          document.querySelector('#df-7123dfbd-2144-40d0-9e4d-2df4e267b4c0 button.colab-df-convert');\n",
              "        buttonEl.style.display =\n",
              "          google.colab.kernel.accessAllowed ? 'block' : 'none';\n",
              "\n",
              "        async function convertToInteractive(key) {\n",
              "          const element = document.querySelector('#df-7123dfbd-2144-40d0-9e4d-2df4e267b4c0');\n",
              "          const dataTable =\n",
              "            await google.colab.kernel.invokeFunction('convertToInteractive',\n",
              "                                                     [key], {});\n",
              "          if (!dataTable) return;\n",
              "\n",
              "          const docLinkHtml = 'Like what you see? Visit the ' +\n",
              "            '<a target=\"_blank\" href=https://colab.research.google.com/notebooks/data_table.ipynb>data table notebook</a>'\n",
              "            + ' to learn more about interactive tables.';\n",
              "          element.innerHTML = '';\n",
              "          dataTable['output_type'] = 'display_data';\n",
              "          await google.colab.output.renderOutput(dataTable, element);\n",
              "          const docLink = document.createElement('div');\n",
              "          docLink.innerHTML = docLinkHtml;\n",
              "          element.appendChild(docLink);\n",
              "        }\n",
              "      </script>\n",
              "    </div>\n",
              "  </div>\n",
              "  "
            ],
            "text/plain": [
              "     tweet  label\n",
              "4597   NaN      2"
            ]
          },
          "metadata": {},
          "execution_count": 15
        }
      ]
    },
    {
      "cell_type": "code",
      "source": [
        "train.drop(4597, inplace=True)"
      ],
      "metadata": {
        "id": "SjNkMiIgrcqL"
      },
      "id": "SjNkMiIgrcqL",
      "execution_count": null,
      "outputs": []
    },
    {
      "cell_type": "code",
      "source": [
        "train[train.isnull().any(axis=1)]"
      ],
      "metadata": {
        "colab": {
          "base_uri": "https://localhost:8080/",
          "height": 50
        },
        "id": "lEryo4p5roEJ",
        "outputId": "a4bd6e9c-c312-4a8d-9adf-01f3b7179f10"
      },
      "id": "lEryo4p5roEJ",
      "execution_count": null,
      "outputs": [
        {
          "output_type": "execute_result",
          "data": {
            "text/html": [
              "\n",
              "  <div id=\"df-cf59f282-487b-45bb-91ab-8d90b94d226f\">\n",
              "    <div class=\"colab-df-container\">\n",
              "      <div>\n",
              "<style scoped>\n",
              "    .dataframe tbody tr th:only-of-type {\n",
              "        vertical-align: middle;\n",
              "    }\n",
              "\n",
              "    .dataframe tbody tr th {\n",
              "        vertical-align: top;\n",
              "    }\n",
              "\n",
              "    .dataframe thead th {\n",
              "        text-align: right;\n",
              "    }\n",
              "</style>\n",
              "<table border=\"1\" class=\"dataframe\">\n",
              "  <thead>\n",
              "    <tr style=\"text-align: right;\">\n",
              "      <th></th>\n",
              "      <th>tweet</th>\n",
              "      <th>label</th>\n",
              "    </tr>\n",
              "  </thead>\n",
              "  <tbody>\n",
              "  </tbody>\n",
              "</table>\n",
              "</div>\n",
              "      <button class=\"colab-df-convert\" onclick=\"convertToInteractive('df-cf59f282-487b-45bb-91ab-8d90b94d226f')\"\n",
              "              title=\"Convert this dataframe to an interactive table.\"\n",
              "              style=\"display:none;\">\n",
              "        \n",
              "  <svg xmlns=\"http://www.w3.org/2000/svg\" height=\"24px\"viewBox=\"0 0 24 24\"\n",
              "       width=\"24px\">\n",
              "    <path d=\"M0 0h24v24H0V0z\" fill=\"none\"/>\n",
              "    <path d=\"M18.56 5.44l.94 2.06.94-2.06 2.06-.94-2.06-.94-.94-2.06-.94 2.06-2.06.94zm-11 1L8.5 8.5l.94-2.06 2.06-.94-2.06-.94L8.5 2.5l-.94 2.06-2.06.94zm10 10l.94 2.06.94-2.06 2.06-.94-2.06-.94-.94-2.06-.94 2.06-2.06.94z\"/><path d=\"M17.41 7.96l-1.37-1.37c-.4-.4-.92-.59-1.43-.59-.52 0-1.04.2-1.43.59L10.3 9.45l-7.72 7.72c-.78.78-.78 2.05 0 2.83L4 21.41c.39.39.9.59 1.41.59.51 0 1.02-.2 1.41-.59l7.78-7.78 2.81-2.81c.8-.78.8-2.07 0-2.86zM5.41 20L4 18.59l7.72-7.72 1.47 1.35L5.41 20z\"/>\n",
              "  </svg>\n",
              "      </button>\n",
              "      \n",
              "  <style>\n",
              "    .colab-df-container {\n",
              "      display:flex;\n",
              "      flex-wrap:wrap;\n",
              "      gap: 12px;\n",
              "    }\n",
              "\n",
              "    .colab-df-convert {\n",
              "      background-color: #E8F0FE;\n",
              "      border: none;\n",
              "      border-radius: 50%;\n",
              "      cursor: pointer;\n",
              "      display: none;\n",
              "      fill: #1967D2;\n",
              "      height: 32px;\n",
              "      padding: 0 0 0 0;\n",
              "      width: 32px;\n",
              "    }\n",
              "\n",
              "    .colab-df-convert:hover {\n",
              "      background-color: #E2EBFA;\n",
              "      box-shadow: 0px 1px 2px rgba(60, 64, 67, 0.3), 0px 1px 3px 1px rgba(60, 64, 67, 0.15);\n",
              "      fill: #174EA6;\n",
              "    }\n",
              "\n",
              "    [theme=dark] .colab-df-convert {\n",
              "      background-color: #3B4455;\n",
              "      fill: #D2E3FC;\n",
              "    }\n",
              "\n",
              "    [theme=dark] .colab-df-convert:hover {\n",
              "      background-color: #434B5C;\n",
              "      box-shadow: 0px 1px 3px 1px rgba(0, 0, 0, 0.15);\n",
              "      filter: drop-shadow(0px 1px 2px rgba(0, 0, 0, 0.3));\n",
              "      fill: #FFFFFF;\n",
              "    }\n",
              "  </style>\n",
              "\n",
              "      <script>\n",
              "        const buttonEl =\n",
              "          document.querySelector('#df-cf59f282-487b-45bb-91ab-8d90b94d226f button.colab-df-convert');\n",
              "        buttonEl.style.display =\n",
              "          google.colab.kernel.accessAllowed ? 'block' : 'none';\n",
              "\n",
              "        async function convertToInteractive(key) {\n",
              "          const element = document.querySelector('#df-cf59f282-487b-45bb-91ab-8d90b94d226f');\n",
              "          const dataTable =\n",
              "            await google.colab.kernel.invokeFunction('convertToInteractive',\n",
              "                                                     [key], {});\n",
              "          if (!dataTable) return;\n",
              "\n",
              "          const docLinkHtml = 'Like what you see? Visit the ' +\n",
              "            '<a target=\"_blank\" href=https://colab.research.google.com/notebooks/data_table.ipynb>data table notebook</a>'\n",
              "            + ' to learn more about interactive tables.';\n",
              "          element.innerHTML = '';\n",
              "          dataTable['output_type'] = 'display_data';\n",
              "          await google.colab.output.renderOutput(dataTable, element);\n",
              "          const docLink = document.createElement('div');\n",
              "          docLink.innerHTML = docLinkHtml;\n",
              "          element.appendChild(docLink);\n",
              "        }\n",
              "      </script>\n",
              "    </div>\n",
              "  </div>\n",
              "  "
            ],
            "text/plain": [
              "Empty DataFrame\n",
              "Columns: [tweet, label]\n",
              "Index: []"
            ]
          },
          "metadata": {},
          "execution_count": 17
        }
      ]
    },
    {
      "cell_type": "code",
      "source": [
        "df =train.copy(deep=True)\n",
        "### Separate the majority and minority classes\n",
        "df_0 = df[df['label']==0]\n",
        "df_1= df[df['label']==1]\n",
        "\n",
        "### Now, downsamples majority labels equal to the number of samples in the minority class\n",
        "\n",
        "df_1 = df_1.sample(len(df_0), random_state=0)\n",
        "\n",
        "### concat the majority and minority dataframes\n",
        "df = pd.concat([df_1,df_0])\n",
        "\n",
        "## Shuffle the dataset to prevent the model from getting biased by similar samples\n",
        "df = df.sample(frac=1, random_state=0)\n",
        "labels = list(df[\"label\"])\n",
        "fdist = nltk.FreqDist(w for w in labels)\n",
        "print (fdist.items())"
      ],
      "metadata": {
        "colab": {
          "base_uri": "https://localhost:8080/"
        },
        "id": "9s80nV0lJqDj",
        "outputId": "1ad148b6-2b89-472a-ae9a-f18d36c17f2f"
      },
      "id": "9s80nV0lJqDj",
      "execution_count": null,
      "outputs": [
        {
          "output_type": "stream",
          "name": "stdout",
          "text": [
            "dict_items([(0, 2783), (1, 2783)])\n"
          ]
        }
      ]
    },
    {
      "cell_type": "markdown",
      "id": "4ec48c7b",
      "metadata": {
        "id": "4ec48c7b"
      },
      "source": [
        "## [1.4] Prapere The Comparison Dictionary"
      ]
    },
    {
      "cell_type": "code",
      "execution_count": null,
      "id": "dfcdcdfc",
      "metadata": {
        "id": "dfcdcdfc"
      },
      "outputs": [],
      "source": [
        "model_comparison_table = {}"
      ]
    },
    {
      "cell_type": "code",
      "execution_count": null,
      "id": "0428b0f2",
      "metadata": {
        "id": "0428b0f2"
      },
      "outputs": [],
      "source": [
        "model_comparison_table['model_name'] = []\n",
        "model_comparison_table['preprocessing_methods'] = []\n",
        "model_comparison_table['accuracy'] = []"
      ]
    },
    {
      "cell_type": "markdown",
      "id": "2f22713d",
      "metadata": {
        "id": "2f22713d"
      },
      "source": [
        "# Step [2]: Build Baseline"
      ]
    },
    {
      "cell_type": "markdown",
      "id": "03ef90d1",
      "metadata": {
        "id": "03ef90d1"
      },
      "source": [
        "## [2.1] Extract Bag of Words Features"
      ]
    },
    {
      "cell_type": "code",
      "source": [
        "x_trainBalance = df[(df[\"label\"] == 0) | (df[\"label\"] == 1)]['tweet'].tolist()\n",
        "y_trainBalance = df[(df[\"label\"] == 0) | (df[\"label\"] == 1)]['label'].tolist()"
      ],
      "metadata": {
        "id": "SrojIZEHJ76R"
      },
      "id": "SrojIZEHJ76R",
      "execution_count": null,
      "outputs": []
    },
    {
      "cell_type": "code",
      "source": [
        "x_train = train[(train[\"label\"] == 0) | (train[\"label\"] == 1)]['tweet'].tolist()\n",
        "y_train = train[(train[\"label\"] == 0) | (train[\"label\"] == 1)]['label'].tolist()\n",
        "x_test  = test[(test[\"label\"] == 0) | (test[\"label\"] == 1)]['tweet'].tolist()\n",
        "y_test  = test[(test[\"label\"] == 0) | (test[\"label\"] == 1)]['label'].tolist()"
      ],
      "metadata": {
        "id": "iV_aCYQAisLP"
      },
      "id": "iV_aCYQAisLP",
      "execution_count": null,
      "outputs": []
    },
    {
      "cell_type": "code",
      "source": [
        "from sklearn.feature_extraction.text import CountVectorizer\n",
        "\n",
        "def cv(data):\n",
        "    count_vectorizer = CountVectorizer(ngram_range=(1,2))\n",
        "\n",
        "    emb = count_vectorizer.fit_transform(data)\n",
        "\n",
        "    return emb, count_vectorizer\n",
        "\n",
        "X_train_counts, count_vectorizer = cv(x_train)\n",
        "X_test_counts = count_vectorizer.transform(x_test)"
      ],
      "metadata": {
        "id": "KgrBgN0j14Ij"
      },
      "id": "KgrBgN0j14Ij",
      "execution_count": null,
      "outputs": []
    },
    {
      "cell_type": "code",
      "source": [
        "X_train_countsBalance, count_vectorizer1 = cv(x_trainBalance)\n",
        "X_test_countsBalance = count_vectorizer1.transform(x_test)"
      ],
      "metadata": {
        "id": "XywzL-o8KIcZ"
      },
      "id": "XywzL-o8KIcZ",
      "execution_count": null,
      "outputs": []
    },
    {
      "cell_type": "markdown",
      "id": "24164796",
      "metadata": {
        "id": "24164796"
      },
      "source": [
        "## [2.2] Train model"
      ]
    },
    {
      "cell_type": "code",
      "execution_count": null,
      "id": "04e373c4",
      "metadata": {
        "id": "04e373c4"
      },
      "outputs": [],
      "source": [
        "from sklearn.linear_model import LogisticRegression,RidgeClassifier\n",
        "\n",
        "clf = LogisticRegression(solver = 'liblinear', C=4, penalty = 'l2')\n",
        "clf.fit(X_train_counts, y_train)\n",
        "\n",
        "y_predicted = clf.predict(X_test_counts)"
      ]
    },
    {
      "cell_type": "code",
      "source": [
        "clf.fit(X_train_countsBalance, y_trainBalance)\n",
        "\n",
        "y_predictedBalance = clf.predict(X_test_countsBalance)"
      ],
      "metadata": {
        "id": "Bih4AOirKZVo"
      },
      "id": "Bih4AOirKZVo",
      "execution_count": null,
      "outputs": []
    },
    {
      "cell_type": "markdown",
      "id": "a286e05a",
      "metadata": {
        "id": "a286e05a"
      },
      "source": [
        "## [2.3] Evaluation"
      ]
    },
    {
      "cell_type": "code",
      "source": [
        "accuracy=accuracy_score(y_test, y_predicted)\n",
        "accuracy"
      ],
      "metadata": {
        "colab": {
          "base_uri": "https://localhost:8080/"
        },
        "id": "-lrtt3Jfs_Bp",
        "outputId": "de68c954-98ed-4363-cd98-d631c546f882"
      },
      "id": "-lrtt3Jfs_Bp",
      "execution_count": null,
      "outputs": [
        {
          "output_type": "execute_result",
          "data": {
            "text/plain": [
              "0.7854251012145749"
            ]
          },
          "metadata": {},
          "execution_count": 28
        }
      ]
    },
    {
      "cell_type": "code",
      "source": [
        "accuracyBalance=accuracy_score(y_test, y_predictedBalance)\n",
        "accuracyBalance"
      ],
      "metadata": {
        "colab": {
          "base_uri": "https://localhost:8080/"
        },
        "id": "RjJ5VonvK0cH",
        "outputId": "a8691006-45ca-442d-8b9c-5f4f5e129a67"
      },
      "id": "RjJ5VonvK0cH",
      "execution_count": null,
      "outputs": [
        {
          "output_type": "execute_result",
          "data": {
            "text/plain": [
              "0.7618697092381302"
            ]
          },
          "metadata": {},
          "execution_count": 29
        }
      ]
    },
    {
      "cell_type": "markdown",
      "id": "f10e78f8",
      "metadata": {
        "id": "f10e78f8"
      },
      "source": [
        "في المثال التالي طريقة إدخال وكتابة اسم النموذج والعمليات وإدخال الدقة"
      ]
    },
    {
      "cell_type": "code",
      "execution_count": null,
      "id": "42b0c136",
      "metadata": {
        "id": "42b0c136"
      },
      "outputs": [],
      "source": [
        "model_comparison_table['model_name'].append(\"logistic regression with bag of words\")\n",
        "model_comparison_table['preprocessing_methods'].append(\"none\")\n",
        "model_comparison_table['accuracy'].append(accuracy)"
      ]
    },
    {
      "cell_type": "code",
      "source": [
        "model_comparison_table['model_name'].append(\"logistic regression with bag of words with Balance\")\n",
        "model_comparison_table['preprocessing_methods'].append(\"none\")\n",
        "model_comparison_table['accuracy'].append(accuracyBalance)"
      ],
      "metadata": {
        "id": "kAUVYmVSK-uy"
      },
      "id": "kAUVYmVSK-uy",
      "execution_count": null,
      "outputs": []
    },
    {
      "cell_type": "markdown",
      "id": "f9e52feb",
      "metadata": {
        "id": "f9e52feb"
      },
      "source": [
        "# Step [3]: Build model with preprocessing methods"
      ]
    },
    {
      "cell_type": "markdown",
      "source": [
        "## [3.1] Extract Bag of Words Features"
      ],
      "metadata": {
        "id": "Km0OtI315KWY"
      },
      "id": "Km0OtI315KWY"
    },
    {
      "cell_type": "code",
      "execution_count": null,
      "id": "d605c22a",
      "metadata": {
        "id": "d605c22a"
      },
      "outputs": [],
      "source": [
        "#remove link from tweets\n",
        "def remove_link(tweet,work):\n",
        "   \"\"\"Process tweet function.\n",
        "    Input:\n",
        "        tweet: a string containing a tweet without changing\n",
        "    Output:\n",
        "        cleaned_tweet: tweet after removing link\n",
        "\n",
        "    \"\"\"\n",
        "   if work ==1:\n",
        "      newtweet = re.sub(\"(https|http|ftp)?://\\S*.((\\S*\\S*)|(\\S*))\", \" \", tweet)\n",
        "   else:\n",
        "     newtweet = tweet\n",
        "   return newtweet"
      ]
    },
    {
      "cell_type": "code",
      "source": [
        "#remove duplicate from tweet \n",
        "def remov_duplicates(tweet,work):\n",
        "   \n",
        "   \"\"\"Process tweet function.\n",
        "    Input:\n",
        "        tweet: a string containing a tweet without changing\n",
        "    Output:\n",
        "        cleaned_tweet: tweet after removing duplicates\n",
        "\n",
        "    \"\"\"\n",
        "   if work ==1:\n",
        "      newtweet = re.sub(r'(\\w)\\1+', r'\\1', tweet)\n",
        "   else:\n",
        "     newtweet = tweet\n",
        "   return newtweet"
      ],
      "metadata": {
        "id": "zl_VcIjDB8ja"
      },
      "id": "zl_VcIjDB8ja",
      "execution_count": null,
      "outputs": []
    },
    {
      "cell_type": "code",
      "source": [
        " #تنضيف الداتا من اسماء المستخدمين\n",
        "def remove_tweets_username(tweet,work):\n",
        "    \"\"\"Process tweet function.\n",
        "    Input:\n",
        "        tweet: a string containing a tweet without changing\n",
        "    Output:\n",
        "        cleaned_tweet: tweet after removing username\n",
        "\n",
        "    \"\"\"\n",
        "    if work ==1:\n",
        "      pattern = r\"@\\S+\"\n",
        "      newtweet =re.sub(pattern,'',tweet)\n",
        "    else :\n",
        "      newtweet = tweet\n",
        "    return newtweet"
      ],
      "metadata": {
        "id": "MOPJzRlMFK8J"
      },
      "id": "MOPJzRlMFK8J",
      "execution_count": null,
      "outputs": []
    },
    {
      "cell_type": "code",
      "source": [
        "#حذف الايموجي ممكن يدل على مشاعر سلبية مثل السخرية من اللقاح بالرغم من ان تعبير الجملة ايجابي\n",
        "#remove emojis\n",
        "def remove_emojis(tweet,work):\n",
        "\n",
        "   \"\"\"Process tweet function.\n",
        "    Input:\n",
        "        tweet: a string containing a tweet without changing\n",
        "    Output:\n",
        "        cleaned_tweet: tweet after removing emojis\n",
        "\n",
        "    \"\"\"\n",
        "   emoj = re.compile(\"[\"\n",
        "        u\"\\U0001F600-\\U0001F64F\"  # emoticons\n",
        "        u\"\\U0001F300-\\U0001F5FF\"  # symbols & pictographs\n",
        "        u\"\\U0001F680-\\U0001F6FF\"  # transport & map symbols\n",
        "        u\"\\U0001F1E0-\\U0001F1FF\"  # flags (iOS)\n",
        "        u\"\\U00002500-\\U00002BEF\"  # chinese char\n",
        "        u\"\\U00002702-\\U000027B0\"\n",
        "        u\"\\U00002702-\\U000027B0\"\n",
        "        u\"\\U000024C2-\\U0001F251\"\n",
        "        u\"\\U0001f926-\\U0001f937\"\n",
        "        u\"\\U00010000-\\U0010ffff\"\n",
        "        u\"\\u2640-\\u2642\" \n",
        "        u\"\\u2600-\\u2B55\"\n",
        "        u\"\\u200d\"\n",
        "        u\"\\u23cf\"\n",
        "        u\"\\u23e9\"\n",
        "        u\"\\u231a\"\n",
        "        u\"\\ufe0f\"  # dingbats\n",
        "        u\"\\u3030\"\n",
        "                      \"]+\", re.UNICODE)\n",
        "   if work ==1:\n",
        "     newtweet = re.sub(emoj, '', tweet)\n",
        "   else:\n",
        "     newtweet = tweet\n",
        "\n",
        "   return newtweet"
      ],
      "metadata": {
        "id": "EixWUOpUGOWz"
      },
      "id": "EixWUOpUGOWz",
      "execution_count": null,
      "outputs": []
    },
    {
      "cell_type": "code",
      "source": [
        "# remove punctuation\n",
        "\n",
        "def remove_punctuation(tweet,work):\n",
        "   \"\"\"Process tweet function.\n",
        "    Input:\n",
        "        tweet: a string containing a tweet without changing\n",
        "    Output:\n",
        "        cleaned_tweet: tweet after removing punctuation\n",
        "\n",
        "    \"\"\"\n",
        "   #punctuatuions = '''`÷×؛<>_()*&^%][ـ،/:\"؟.,'{}~¦+|!”…“–ـ'''\n",
        "   if work ==1:\n",
        "      newtweet = re.sub('[%s]' % re.escape(\"\"\"!\"#$%&'()*+,،-./:;<=>؟?@[\\]^_`{|}~|\\•|\\)|\\(”“\"\"\"), ' ', tweet)\n",
        "   else:\n",
        "     newtweet = tweet\n",
        "   return newtweet"
      ],
      "metadata": {
        "id": "AMjOCoRjGpAZ"
      },
      "id": "AMjOCoRjGpAZ",
      "execution_count": null,
      "outputs": []
    },
    {
      "cell_type": "code",
      "source": [
        "#نضيف الداتا من علامات الترقيم والمحارف غير الضرورية و التشكيل\n",
        "def remove_tweets_other(tweet,work):\n",
        "    \"\"\"Process tweet function.\n",
        "    Input:\n",
        "        tweet: a string containing a tweet without changing\n",
        "    Output:\n",
        "        cleaned_tweet: tweet after removing tweets_other\n",
        "\n",
        "    \"\"\"\n",
        "    if work ==1:\n",
        "        pattern = r\"\\n|,|;|\\(|\\)|\\}|\\{|\\||\\.|\\|\\$|\\\"|\\'|/|%|\\\\|\\*|\\^|\\&|\\+\\-|~|؟|،|…|-|﴿|﴾|•|<|>|»|«|:|؛|ّ|َ|ً|ٍ|ِ|ْ|ٌ|ُ\"\n",
        "        newtweet =re.sub(pattern,'',tweet)\n",
        "    else:\n",
        "      newtweet=tweet\n",
        "    return newtweet"
      ],
      "metadata": {
        "id": "aMKjL_dfHDQx"
      },
      "id": "aMKjL_dfHDQx",
      "execution_count": null,
      "outputs": []
    },
    {
      "cell_type": "code",
      "source": [
        "#تنضيف الداتا من الصور\n",
        "def remove_tweets_img(tweet,work):\n",
        "   \"\"\"Process tweet function.\n",
        "    Input:\n",
        "        tweet: a string containing a tweet without changing\n",
        "    Output:\n",
        "        cleaned_tweet: tweet after removing tweets_img\n",
        "\n",
        "    \"\"\"\n",
        "   if work ==1:\n",
        "       pattern = r\"pic\\.twitter\\.com/\\S+\"\n",
        "       newtweet =re.sub(pattern,'',tweet)\n",
        "   else:\n",
        "      newtweet=tweet\n",
        "   return newtweet"
      ],
      "metadata": {
        "id": "tduel0tEJ-qT"
      },
      "id": "tduel0tEJ-qT",
      "execution_count": null,
      "outputs": []
    },
    {
      "cell_type": "code",
      "source": [
        "#نوحيد الهمزات\n",
        "def hamzat_normalizing(text):\n",
        "    text = arabconst.ALEFAT_PAT.sub(arabconst.ALEF, text)\n",
        "    return arabconst.HAMZAT_PAT.sub(arabconst.HAMZA, text)"
      ],
      "metadata": {
        "id": "-R7LLUfXT2Pi"
      },
      "id": "-R7LLUfXT2Pi",
      "execution_count": null,
      "outputs": []
    },
    {
      "cell_type": "code",
      "source": [
        "#تحويل التاء المربوطة الى هاء والألف المقصورة الى ياء\n",
        "def spellerrors_normalizing(text):\n",
        "    text = re.sub(u'[%s]' % arabconst.TEH_MARBUTA, arabconst.HEH, text)\n",
        "    return re.sub(u'[%s]' % arabconst.ALEF_MAKSURA, arabconst.YEH, text)"
      ],
      "metadata": {
        "id": "0EgjY9SbT3sW"
      },
      "id": "0EgjY9SbT3sW",
      "execution_count": null,
      "outputs": []
    },
    {
      "cell_type": "code",
      "source": [
        "def strip_tashkeel(text):\n",
        "    return arabconst.HARAKAT_PAT.sub('', text)"
      ],
      "metadata": {
        "id": "7A95dga6T6vg"
      },
      "id": "7A95dga6T6vg",
      "execution_count": null,
      "outputs": []
    },
    {
      "cell_type": "code",
      "source": [
        "def strip_tatweel(text):\n",
        "    return re.sub(u'[%s]'% arabconst.TATWEEL,'', text)"
      ],
      "metadata": {
        "id": "OarN2rAXT9cm"
      },
      "id": "OarN2rAXT9cm",
      "execution_count": null,
      "outputs": []
    },
    {
      "cell_type": "code",
      "source": [
        "def normalizing(tweet,work):\n",
        "   \"\"\"Process tweet function.\n",
        "    Input:\n",
        "        tweet: a string containing a tweet without changing\n",
        "    Output:\n",
        "        cleaned_tweet: tweet after removing tweets_img\n",
        "\n",
        "    \"\"\"\n",
        "   if work ==1:\n",
        "     newtweet = hamzat_normalizing(tweet)\n",
        "     newtweet = spellerrors_normalizing(newtweet)\n",
        "     newtweet = strip_tashkeel(newtweet)\n",
        "     newtweet = strip_tatweel(newtweet)\n",
        "   else:\n",
        "      newtweet=tweet\n",
        "   return newtweet"
      ],
      "metadata": {
        "id": "8ZdlpVAAUKI7"
      },
      "id": "8ZdlpVAAUKI7",
      "execution_count": null,
      "outputs": []
    },
    {
      "cell_type": "code",
      "source": [
        "#توحيد الاحرف \n",
        "def normalizeArabic(text,work):\n",
        "   \"\"\"Process tweet function.\n",
        "    Input:\n",
        "        tweet: a string containing a tweet without changing\n",
        "    Output:\n",
        "        cleaned_tweet: tweet after normalize Arabic word\n",
        "\n",
        "    \"\"\"\n",
        "   text = text.strip()\n",
        "   text = re.sub(\"[إأٱآا]\", \"ا\", text)\n",
        "   text = re.sub(\"ى\", \"ي\", text)\n",
        "   text = re.sub(\"ؤ\", \"ء\", text)\n",
        "   text = re.sub(\"ئ\", \"ء\", text)\n",
        "   text = re.sub(\"ة\", \"ه\", text)\n",
        "   noise = re.compile(\"\"\" ّ    | # Tashdid\n",
        "                             َ    | # Fatha\n",
        "                             ً    | # Tanwin Fath\n",
        "                             ُ    | # Damma\n",
        "                             ٌ    | # Tanwin Damm\n",
        "                             ِ    | # Kasra\n",
        "                             ٍ    | # Tanwin Kasr\n",
        "                             ْ    | # Sukun\n",
        "                             ـ     # Tatwil/Kashida\n",
        "                         \"\"\", re.VERBOSE)\n",
        "   text = re.sub(noise, '', text)\n",
        "   text = re.sub(r'(.)\\1+', r\"\\1\\1\", text) # Remove longation\n",
        "\n",
        "   if work == 1:\n",
        "     newtweet = araby.strip_tashkeel(text)\n",
        "   else:\n",
        "     newtweet = text\n",
        "     \n",
        "   return newtweet"
      ],
      "metadata": {
        "id": "LVGEY45_W7Ln"
      },
      "id": "LVGEY45_W7Ln",
      "execution_count": null,
      "outputs": []
    },
    {
      "cell_type": "code",
      "source": [
        " #تنضيف الداتا من الفراغات الزائدة\n",
        "def remove_tweets_extra_white_space(text,work):\n",
        "    \"\"\"Process tweet function.\n",
        "    Input:\n",
        "        tweet: a string containing a tweet without changing\n",
        "    Output:\n",
        "        cleaned_tweet: tweet after extra_white_space\n",
        "\n",
        "    \"\"\"\n",
        "    if work ==1:\n",
        "       pattern = r\"\\s+\"\n",
        "       newtweet =re.sub(pattern,' ',text)\n",
        "    else:\n",
        "      newtweet = text\n",
        "    return newtweet"
      ],
      "metadata": {
        "id": "FuNMcLQ5aGfB"
      },
      "id": "FuNMcLQ5aGfB",
      "execution_count": null,
      "outputs": []
    },
    {
      "cell_type": "code",
      "source": [
        "def removing_chars(text,work):\n",
        "   \"\"\"Process tweet function.\n",
        "    Input:\n",
        "        tweet: a string containing a tweet without changing\n",
        "    Output:\n",
        "        cleaned_tweet: tweet after removing_chars\n",
        "\n",
        "    \"\"\"\n",
        "   if work ==1:\n",
        "       newtweet = re.sub(r'[/(){}\\[\\]\\|]', r'', text)\n",
        "       newtweet = re.sub(r'[!$%^?&*><]', r'', newtweet)\n",
        "       #newtweet = re.sub(r'[\\'\\\"،—.,;+-=]', r'', newtweet)\n",
        "       newtweet = re.sub(r'[\\\\n]', r'', newtweet) # removing \\n\n",
        "       #print(text)\n",
        "       newtweet = re.sub(r'[a-z]*[A-Z]*', r'', newtweet) # removing English letters\n",
        "\n",
        "       #if text !='covid':\n",
        "         #if text != 'covid19':\n",
        "          # if text !='COVID':\n",
        "           #  if text !='COVID19':\n",
        "   else :\n",
        "       newtweet = text\n",
        "       print(newtweet) \n",
        "   return newtweet"
      ],
      "metadata": {
        "id": "Q3mZ6vGZb4M8"
      },
      "id": "Q3mZ6vGZb4M8",
      "execution_count": null,
      "outputs": []
    },
    {
      "cell_type": "code",
      "source": [
        "textnew ='the name is COVID'\n",
        "if textnew == 'covid':\n",
        "   print('yes')\n",
        "removing_chars(textnew,1)"
      ],
      "metadata": {
        "colab": {
          "base_uri": "https://localhost:8080/",
          "height": 35
        },
        "id": "V3XFq-qjeDWT",
        "outputId": "01852c88-17fb-440a-ddb8-599d3063e734"
      },
      "id": "V3XFq-qjeDWT",
      "execution_count": null,
      "outputs": [
        {
          "output_type": "execute_result",
          "data": {
            "application/vnd.google.colaboratory.intrinsic+json": {
              "type": "string"
            },
            "text/plain": [
              "'   '"
            ]
          },
          "metadata": {},
          "execution_count": 47
        }
      ]
    },
    {
      "cell_type": "code",
      "source": [
        "def removing_tweet_digits(tweet,work):\n",
        "   \"\"\"Process tweet function.\n",
        "    Input:\n",
        "        tweet: a string containing a tweet without changing\n",
        "    Output:\n",
        "        cleaned_tweet: tweet after removing_chars\n",
        "\n",
        "    \"\"\"\n",
        "   if work ==1:\n",
        "      if tweet != '19':\n",
        "        cleaned_tweet = re.sub(r'[d]+', r'', tweet)\n",
        "        cleaned_tweet = re.sub(r'[0-9]', '', cleaned_tweet)\n",
        "        cleaned_tweet = re.sub(r'([0-9]*\\-[0-9]*)*', '', cleaned_tweet)\n",
        "   else:\n",
        "        cleaned_tweet = tweet\n",
        "   return cleaned_tweet "
      ],
      "metadata": {
        "id": "m6MJC98rhZvU"
      },
      "id": "m6MJC98rhZvU",
      "execution_count": null,
      "outputs": []
    },
    {
      "cell_type": "code",
      "source": [
        "def preprocess(tweet, flags=[0,1]):\n",
        "    \"\"\"Process tweet function.\n",
        "    Input:\n",
        "        tweet: a string containing a tweet\n",
        "        flags: list of \"work\" values for all functions will called here.\n",
        "    Output:\n",
        "        cleaned_tweet: tweet after apply all cleaning and normlizaing functions\n",
        "\n",
        "    \"\"\"\n",
        "    tweet = re.sub('RT|cc', ' ', tweet)  # remove RT and cc\n",
        "    tweet = remove_link(tweet, flags[1])\n",
        "    tweet = remove_tweets_img(tweet, flags[1])\n",
        "    tweet = remov_duplicates(tweet, flags[1])\n",
        "    tweet = remove_tweets_username(tweet,flags[1])\n",
        "    tweet = remove_emojis(tweet, flags[1])\n",
        "    tweet = remove_punctuation(tweet, flags[1])\n",
        "    tweet = remove_tweets_other(tweet,flags[1])\n",
        "    tweet = normalizing(tweet,flags[1])\n",
        "    tweet = normalizeArabic(tweet, flags[1])\n",
        "    tweet = remove_tweets_extra_white_space(tweet,flags[1])\n",
        "    tweet = removing_chars(tweet,flags[1])\n",
        "    tweet = removing_tweet_digits(tweet,flags[1])\n",
        "    #tweet = remove_phone(tweet, flags[2])\n",
        "    #tweet = remove_stopword(tweet, flags[2])\n",
        "    #tweet = lemmetize_word(tweet, flags[2])\n",
        "    #tweet = stemming(tweet, flags[2])\n",
        "    return tweet"
      ],
      "metadata": {
        "id": "Ox7aVfKN265O"
      },
      "id": "Ox7aVfKN265O",
      "execution_count": null,
      "outputs": []
    },
    {
      "cell_type": "code",
      "source": [
        "def preprocess_final(df, text_field):\n",
        "    df['cleaned_tweet'] = df[text_field].apply(lambda x: preprocess(str(x)))\n",
        "    return df"
      ],
      "metadata": {
        "id": "-R-t1hQwBW0o"
      },
      "id": "-R-t1hQwBW0o",
      "execution_count": null,
      "outputs": []
    },
    {
      "cell_type": "code",
      "source": [
        "train_data = preprocess_final(train,'tweet')\n",
        "test_data  = preprocess_final(test,'tweet')\n",
        "valid_data= preprocess_final(valid,'tweet')"
      ],
      "metadata": {
        "id": "c3LvazEVBXdX"
      },
      "id": "c3LvazEVBXdX",
      "execution_count": null,
      "outputs": []
    },
    {
      "cell_type": "code",
      "source": [
        "x_train_cleaned_all = train_data['cleaned_tweet']\n",
        "y_train_all = train_data['label']\n",
        "x_test_cleaned_all = test_data['cleaned_tweet']\n",
        "y_test_all = test_data['label']\n",
        "x_valid_cleaned_all = valid_data['cleaned_tweet']\n",
        "y_valid_cleaned_all = valid_data['label']"
      ],
      "metadata": {
        "id": "juGUH5YZNhmS"
      },
      "id": "juGUH5YZNhmS",
      "execution_count": null,
      "outputs": []
    },
    {
      "cell_type": "code",
      "source": [
        "train_dataBalance = preprocess_final(df,'tweet')"
      ],
      "metadata": {
        "id": "ZeryzhtsMPLs"
      },
      "id": "ZeryzhtsMPLs",
      "execution_count": null,
      "outputs": []
    },
    {
      "cell_type": "code",
      "source": [
        "x_train_cleaned = train_data[(train_data[\"label\"] == 0) | (train_data[\"label\"] == 1)]['cleaned_tweet'].tolist()\n",
        "y_train1 = train_data[(train_data[\"label\"] == 0) | (train_data[\"label\"] == 1)]['label'].tolist()\n",
        "x_test_cleaned = test_data[(test_data[\"label\"] == 0) | (test_data[\"label\"] == 1)]['cleaned_tweet'].tolist()\n",
        "y_test1 = test_data[(test_data[\"label\"] == 0) | (test_data[\"label\"] == 1)]['label'].tolist()"
      ],
      "metadata": {
        "id": "q-Z5kJ3tC0aE"
      },
      "id": "q-Z5kJ3tC0aE",
      "execution_count": null,
      "outputs": []
    },
    {
      "cell_type": "code",
      "source": [
        "x_train_cleanedBalance = train_dataBalance[(train_dataBalance[\"label\"] == 0) | (train_dataBalance[\"label\"] == 1)]['cleaned_tweet'].tolist()\n",
        "y_train1Balance = train_dataBalance[(train_dataBalance[\"label\"] == 0) | (train_dataBalance[\"label\"] == 1)]['label'].tolist()"
      ],
      "metadata": {
        "id": "XPQQqsfaOZif"
      },
      "id": "XPQQqsfaOZif",
      "execution_count": null,
      "outputs": []
    },
    {
      "cell_type": "code",
      "source": [
        "from sklearn.feature_extraction.text import CountVectorizer\n",
        "\n",
        "def cv(data):\n",
        "    count_vectorizer = CountVectorizer(ngram_range=(1,2))\n",
        "\n",
        "    emb = count_vectorizer.fit_transform(data)\n",
        "\n",
        "    return emb, count_vectorizer\n",
        "\n",
        "X_train_counts1, count_vectorizer1 = cv(x_train_cleaned)\n",
        "X_test_counts1 = count_vectorizer1.transform(x_test_cleaned)"
      ],
      "metadata": {
        "id": "B1GLNPrR_gbq"
      },
      "id": "B1GLNPrR_gbq",
      "execution_count": null,
      "outputs": []
    },
    {
      "cell_type": "code",
      "source": [
        "X_train_countsBalance, count_vectorizer1 = cv(x_train_cleanedBalance)\n",
        "X_test_countsBalance = count_vectorizer1.transform(x_test_cleaned)"
      ],
      "metadata": {
        "id": "T4v5odmCOySK"
      },
      "id": "T4v5odmCOySK",
      "execution_count": null,
      "outputs": []
    },
    {
      "cell_type": "markdown",
      "source": [
        "## [3.2] Train model"
      ],
      "metadata": {
        "id": "ZWaKFPHc5o5z"
      },
      "id": "ZWaKFPHc5o5z"
    },
    {
      "cell_type": "code",
      "source": [
        "from sklearn.linear_model import LogisticRegression,RidgeClassifier\n",
        "\n",
        "clf1 = LogisticRegression(solver = 'liblinear', C=4, penalty = 'l2')\n",
        "clf1.fit(X_train_counts1, y_train1)\n",
        "\n",
        "y_predicted1 = clf1.predict(X_train_counts1)"
      ],
      "metadata": {
        "id": "ug09T5XC5rYf"
      },
      "id": "ug09T5XC5rYf",
      "execution_count": null,
      "outputs": []
    },
    {
      "cell_type": "code",
      "source": [
        "clf1.fit(X_train_countsBalance, y_trainBalance)\n",
        "\n",
        "y_predictedBalance = clf1.predict(X_test_countsBalance)"
      ],
      "metadata": {
        "id": "fTCsR7PKPKsA"
      },
      "id": "fTCsR7PKPKsA",
      "execution_count": null,
      "outputs": []
    },
    {
      "cell_type": "markdown",
      "id": "d4969b90",
      "metadata": {
        "id": "d4969b90"
      },
      "source": [
        "## [3.3] Evaluation"
      ]
    },
    {
      "cell_type": "code",
      "source": [
        "accuracy1Balance=accuracy_score(y_test1, y_predictedBalance)\n",
        "accuracy1Balance"
      ],
      "metadata": {
        "colab": {
          "base_uri": "https://localhost:8080/"
        },
        "id": "lBcAukdRP8tn",
        "outputId": "a7088405-9a61-4a04-d3c3-e6198c50a2ff"
      },
      "id": "lBcAukdRP8tn",
      "execution_count": null,
      "outputs": [
        {
          "output_type": "execute_result",
          "data": {
            "text/plain": [
              "0.7684946632315053"
            ]
          },
          "metadata": {},
          "execution_count": 60
        }
      ]
    },
    {
      "cell_type": "markdown",
      "id": "c14af91e",
      "metadata": {
        "id": "c14af91e"
      },
      "source": [
        "في حال وجود عمليات مسبقة كما طلب منك بعد خطوة بناء أول نموذج ستكتبها كما في المثال:"
      ]
    },
    {
      "cell_type": "code",
      "execution_count": null,
      "id": "00d03133",
      "metadata": {
        "id": "00d03133"
      },
      "outputs": [],
      "source": [
        "model_comparison_table['model_name'].append(\"logistic regression with bag of words\")\n",
        "model_comparison_table['preprocessing_methods'].append(\"removing emojis, removing urls, remove_tweets_img,remov_duplicates,remove_tweets_username,remove_emojis,remove_punctuation,normalizing,normalizeArabic,remove_tweets_extra_white_space,removing_chars,removing_tweet_digits\")\n",
        "model_comparison_table['accuracy'].append(accuracy)"
      ]
    },
    {
      "cell_type": "code",
      "source": [
        "model_comparison_table['model_name'].append(\"logistic regression with bag of words with Balance \")\n",
        "model_comparison_table['preprocessing_methods'].append(\"removing emojis, removing urls, remove_tweets_img,remov_duplicates,remove_tweets_username,remove_emojis,remove_punctuation,normalizing,normalizeArabic,remove_tweets_extra_white_space,removing_chars,removing_tweet_digits\")\n",
        "model_comparison_table['accuracy'].append(accuracy1Balance)"
      ],
      "metadata": {
        "id": "cIm0IHcdQIJc"
      },
      "id": "cIm0IHcdQIJc",
      "execution_count": null,
      "outputs": []
    },
    {
      "cell_type": "markdown",
      "source": [
        "# Step [4]: Build model with TfidfVectorizer"
      ],
      "metadata": {
        "id": "j1tI4a2BHcqZ"
      },
      "id": "j1tI4a2BHcqZ"
    },
    {
      "cell_type": "code",
      "source": [
        "def train_classifier(X_train, y_train):\n",
        "    classifier = LogisticRegression()\n",
        "    classifier.fit(X_train, y_train)\n",
        "    return classifier"
      ],
      "metadata": {
        "id": "sfScKfz_a3qx"
      },
      "id": "sfScKfz_a3qx",
      "execution_count": null,
      "outputs": []
    },
    {
      "cell_type": "code",
      "source": [
        "from sklearn.feature_extraction.text import TfidfVectorizer\n",
        "def tfidf_features(X_train, X_test):\n",
        "    \n",
        "    tfidf_vectorizer = TfidfVectorizer(min_df = 1, max_df = 0.3, ngram_range=(1, 2))\n",
        "    X_train = tfidf_vectorizer.fit_transform(X_train)\n",
        "    X_test = tfidf_vectorizer.transform(X_test)\n",
        "    \n",
        "    return X_train, X_test, tfidf_vectorizer.vocabulary_,tfidf_vectorizer"
      ],
      "metadata": {
        "id": "XKO7lq1lH29z"
      },
      "id": "XKO7lq1lH29z",
      "execution_count": null,
      "outputs": []
    },
    {
      "cell_type": "code",
      "source": [
        "X_train_tfidf, X_test_tfidf, tfidf_vocab,tfidf_vectorizer = tfidf_features(x_train_cleaned, x_test_cleaned)"
      ],
      "metadata": {
        "id": "4iatSBKEH6oL"
      },
      "id": "4iatSBKEH6oL",
      "execution_count": null,
      "outputs": []
    },
    {
      "cell_type": "code",
      "source": [
        "classifier_tfidf = train_classifier(X_train_tfidf, y_train)"
      ],
      "metadata": {
        "id": "WzPBSh2IIYFK"
      },
      "id": "WzPBSh2IIYFK",
      "execution_count": null,
      "outputs": []
    },
    {
      "cell_type": "code",
      "source": [
        "y_test_predicted_labels_tfidf = classifier_tfidf.predict(X_test_tfidf)\n",
        "y_test_predicted_scores_tfidf = classifier_tfidf.decision_function(X_test_tfidf)"
      ],
      "metadata": {
        "id": "PAQ1GrBKbTZD"
      },
      "id": "PAQ1GrBKbTZD",
      "execution_count": null,
      "outputs": []
    },
    {
      "cell_type": "code",
      "source": [
        "print('Tfidf Accuracy: LogisticRegression ' ,accuracy_score(y_test1, y_test_predicted_labels_tfidf))"
      ],
      "metadata": {
        "colab": {
          "base_uri": "https://localhost:8080/"
        },
        "id": "iWNeKo0rbVR8",
        "outputId": "73054a89-0246-4312-e24e-5a594578d9d7"
      },
      "id": "iWNeKo0rbVR8",
      "execution_count": null,
      "outputs": [
        {
          "output_type": "stream",
          "name": "stdout",
          "text": [
            "Tfidf Accuracy: LogisticRegression  0.7714390872285609\n"
          ]
        }
      ]
    },
    {
      "cell_type": "code",
      "source": [
        "model_comparison_table['model_name'].append(\"logistic regression with tfidf\")\n",
        "model_comparison_table['preprocessing_methods'].append(\"removing emojis, removing urls, remove_tweets_img,remov_duplicates,remove_tweets_username,remove_emojis,remove_punctuation,normalizing,normalizeArabic,remove_tweets_extra_white_space,removing_chars,removing_tweet_digits\")\n",
        "model_comparison_table['accuracy'].append(accuracy)"
      ],
      "metadata": {
        "id": "IGljuHvzcJjn"
      },
      "id": "IGljuHvzcJjn",
      "execution_count": null,
      "outputs": []
    },
    {
      "cell_type": "code",
      "source": [
        "X_train_tfidfBalance, X_test_tfidfBalance, tfidf_vocabBalance,tfidf_vectorizerBalance = tfidf_features(x_train_cleanedBalance, x_test_cleaned)"
      ],
      "metadata": {
        "id": "AHGrANxAWkhv"
      },
      "id": "AHGrANxAWkhv",
      "execution_count": null,
      "outputs": []
    },
    {
      "cell_type": "code",
      "source": [
        "classifier_tfidf = train_classifier(X_train_tfidfBalance, y_train1Balance)"
      ],
      "metadata": {
        "id": "KRJd4Yt2WxA2"
      },
      "id": "KRJd4Yt2WxA2",
      "execution_count": null,
      "outputs": []
    },
    {
      "cell_type": "code",
      "source": [
        "y_test_predicted_labels_tfidf = classifier_tfidf.predict(X_test_tfidfBalance)\n",
        "y_test_predicted_scores_tfidf = classifier_tfidf.decision_function(X_test_tfidfBalance)"
      ],
      "metadata": {
        "id": "e0pjRiJWXMxF"
      },
      "id": "e0pjRiJWXMxF",
      "execution_count": null,
      "outputs": []
    },
    {
      "cell_type": "code",
      "source": [
        "print('Tfidf Accuracy: LogisticRegression ' ,accuracy_score(y_test1, y_test_predicted_labels_tfidf))"
      ],
      "metadata": {
        "colab": {
          "base_uri": "https://localhost:8080/"
        },
        "id": "adfbrBjQXVQ7",
        "outputId": "8d753e73-cf9d-4ff2-d698-dccd269a9670"
      },
      "id": "adfbrBjQXVQ7",
      "execution_count": null,
      "outputs": [
        {
          "output_type": "stream",
          "name": "stdout",
          "text": [
            "Tfidf Accuracy: LogisticRegression  0.7581891792418108\n"
          ]
        }
      ]
    },
    {
      "cell_type": "code",
      "source": [
        "model_comparison_table['model_name'].append(\"logistic regression with tfidf with Balance\")\n",
        "model_comparison_table['preprocessing_methods'].append(\"removing emojis, removing urls, remove_tweets_img,remov_duplicates,remove_tweets_username,remove_emojis,remove_punctuation,normalizing,normalizeArabic,remove_tweets_extra_white_space,removing_chars,removing_tweet_digits\")\n",
        "model_comparison_table['accuracy'].append(accuracy)"
      ],
      "metadata": {
        "id": "zaynIpoOXdGX"
      },
      "id": "zaynIpoOXdGX",
      "execution_count": null,
      "outputs": []
    },
    {
      "cell_type": "code",
      "source": [
        "from sklearn.naive_bayes import MultinomialNB\n",
        "from sklearn.svm import SVC\n",
        "nb=MultinomialNB(alpha=1.0, fit_prior=False, class_prior=None)\n",
        "xtrain1=tfidf_vectorizer.transform(x_train_cleanedBalance)\n",
        "nb.fit(xtrain1,y_train1Balance)\n",
        "pred1=nb.predict(tfidf_vectorizer.transform(x_train_cleanedBalance))\n",
        "classifier_tfidf = train_classifier(X_train_tfidfBalance, y_train1Balance)\n",
        "y_test_predicted_scores_tfidf = classifier_tfidf.decision_function(X_test_tfidfBalance)"
      ],
      "metadata": {
        "id": "IvFo9oKpXhOO"
      },
      "id": "IvFo9oKpXhOO",
      "execution_count": null,
      "outputs": []
    },
    {
      "cell_type": "code",
      "source": [
        "from sklearn.model_selection import GridSearchCV\n",
        "gcv=GridSearchCV(nb,{'alpha':[1.5,2,3,4,10,100,1.0,0.1,0.001,0.0001],'fit_prior':[True,False]})\n",
        "gcv.fit(xtrain1,y_train1Balance)"
      ],
      "metadata": {
        "colab": {
          "base_uri": "https://localhost:8080/"
        },
        "id": "WgoRo-HBX6eg",
        "outputId": "ff014f58-620b-4d3c-d68c-65f579a1528f"
      },
      "id": "WgoRo-HBX6eg",
      "execution_count": null,
      "outputs": [
        {
          "output_type": "execute_result",
          "data": {
            "text/plain": [
              "GridSearchCV(estimator=MultinomialNB(fit_prior=False),\n",
              "             param_grid={'alpha': [1.5, 2, 3, 4, 10, 100, 1.0, 0.1, 0.001,\n",
              "                                   0.0001],\n",
              "                         'fit_prior': [True, False]})"
            ]
          },
          "metadata": {},
          "execution_count": 76
        }
      ]
    },
    {
      "cell_type": "code",
      "source": [
        "print(gcv.best_score_,gcv.best_params_)"
      ],
      "metadata": {
        "colab": {
          "base_uri": "https://localhost:8080/"
        },
        "id": "q5msd6k_Y5kA",
        "outputId": "03fc23cd-b3eb-473a-b1da-455b22c1961c"
      },
      "id": "q5msd6k_Y5kA",
      "execution_count": null,
      "outputs": [
        {
          "output_type": "stream",
          "name": "stdout",
          "text": [
            "0.7723701126397512 {'alpha': 0.1, 'fit_prior': True}\n"
          ]
        }
      ]
    },
    {
      "cell_type": "code",
      "source": [
        "model_comparison_table['model_name'].append(\"svm with tfidf \")\n",
        "model_comparison_table['preprocessing_methods'].append(\"removing emojis, removing urls, remove_tweets_img,remov_duplicates,remove_tweets_username,remove_emojis,remove_punctuation,normalizing,normalizeArabic,remove_tweets_extra_white_space,removing_chars,removing_tweet_digits\")\n",
        "model_comparison_table['accuracy'].append(0.7723)"
      ],
      "metadata": {
        "id": "eRfrAzzGN7AJ"
      },
      "id": "eRfrAzzGN7AJ",
      "execution_count": null,
      "outputs": []
    },
    {
      "cell_type": "code",
      "source": [
        "from sklearn.naive_bayes import MultinomialNB\n",
        "from sklearn.svm import SVC\n",
        "nb=MultinomialNB(alpha=1.0, fit_prior=True, class_prior=None)\n",
        "xtrain1=tfidf_vectorizer.transform(x_train_cleaned)\n",
        "nb.fit(xtrain1,y_train1)\n",
        "pred1=nb.predict(tfidf_vectorizer.transform(x_train_cleaned))\n",
        "classifier_tfidf = train_classifier(X_train_tfidf, y_train1)\n",
        "y_test_predicted_scores_tfidf = classifier_tfidf.decision_function(X_test_tfidf)"
      ],
      "metadata": {
        "id": "WlzIa-naZFcf"
      },
      "id": "WlzIa-naZFcf",
      "execution_count": null,
      "outputs": []
    },
    {
      "cell_type": "code",
      "source": [
        "from sklearn.model_selection import GridSearchCV\n",
        "gcv=GridSearchCV(nb,{'alpha':[1.5,2,3,4,10,100,1.0,0.1,0.001,0.0001],'fit_prior':[True,False]})\n",
        "gcv.fit(xtrain1,y_train1)"
      ],
      "metadata": {
        "colab": {
          "base_uri": "https://localhost:8080/"
        },
        "id": "ypE12Pv_ZZAU",
        "outputId": "64ce0d65-7345-4b77-c775-cdf63834d4b0"
      },
      "id": "ypE12Pv_ZZAU",
      "execution_count": null,
      "outputs": [
        {
          "output_type": "execute_result",
          "data": {
            "text/plain": [
              "GridSearchCV(estimator=MultinomialNB(),\n",
              "             param_grid={'alpha': [1.5, 2, 3, 4, 10, 100, 1.0, 0.1, 0.001,\n",
              "                                   0.0001],\n",
              "                         'fit_prior': [True, False]})"
            ]
          },
          "metadata": {},
          "execution_count": 80
        }
      ]
    },
    {
      "cell_type": "code",
      "source": [
        "print(gcv.best_score_,gcv.best_params_)"
      ],
      "metadata": {
        "colab": {
          "base_uri": "https://localhost:8080/"
        },
        "id": "tetYpxvDZbt0",
        "outputId": "c9edd525-4264-4729-854c-8372152055bf"
      },
      "id": "tetYpxvDZbt0",
      "execution_count": null,
      "outputs": [
        {
          "output_type": "stream",
          "name": "stdout",
          "text": [
            "0.7754078532426419 {'alpha': 0.1, 'fit_prior': True}\n"
          ]
        }
      ]
    },
    {
      "cell_type": "code",
      "source": [
        "model_comparison_table['model_name'].append(\"svm with tfidf with Balance \")\n",
        "model_comparison_table['preprocessing_methods'].append(\"removing emojis, removing urls, remove_tweets_img,remov_duplicates,remove_tweets_username,remove_emojis,remove_punctuation,normalizing,normalizeArabic,remove_tweets_extra_white_space,removing_chars,removing_tweet_digits\")\n",
        "model_comparison_table['accuracy'].append(0.7754)"
      ],
      "metadata": {
        "id": "qce3BhVROOkp"
      },
      "id": "qce3BhVROOkp",
      "execution_count": null,
      "outputs": []
    },
    {
      "cell_type": "markdown",
      "source": [
        "#Deep Neural Networks for Text Classification"
      ],
      "metadata": {
        "id": "hoctko4UcZKQ"
      },
      "id": "hoctko4UcZKQ"
    },
    {
      "cell_type": "code",
      "source": [
        "x_train_cleaned = train_data[(train_data[\"label\"] == 0) | (train_data[\"label\"] == 1)]['cleaned_tweet']\n",
        "y_train = train_data[(train_data[\"label\"] == 0) | (train_data[\"label\"] == 1)]['label']\n",
        "x_test_cleaned = test_data[(test_data[\"label\"] == 0) | (test_data[\"label\"] == 1)]['cleaned_tweet']\n",
        "y_test = test_data[(test_data[\"label\"] == 0) | (test_data[\"label\"] == 1)]['label']\n",
        "x_valid_cleaned = valid_data[(valid_data[\"label\"] == 0) | (valid_data[\"label\"] == 1)]['cleaned_tweet']\n",
        "y_valid_cleaned = valid_data[(valid_data[\"label\"] == 0) | (valid_data[\"label\"] == 1)]['label']"
      ],
      "metadata": {
        "id": "0FjUpyR5fJ0o"
      },
      "id": "0FjUpyR5fJ0o",
      "execution_count": null,
      "outputs": []
    },
    {
      "cell_type": "code",
      "source": [
        "y_valid_cleaned.shape"
      ],
      "metadata": {
        "colab": {
          "base_uri": "https://localhost:8080/"
        },
        "id": "6RjqUZ2Afptb",
        "outputId": "d29656d7-778c-4ff9-aa72-472f40ef5666"
      },
      "id": "6RjqUZ2Afptb",
      "execution_count": null,
      "outputs": [
        {
          "output_type": "execute_result",
          "data": {
            "text/plain": [
              "(2688,)"
            ]
          },
          "metadata": {},
          "execution_count": 233
        }
      ]
    },
    {
      "cell_type": "code",
      "source": [
        "x_train_cleaned1 = train_data[(train_data[\"label\"] == 0)]['cleaned_tweet']\n",
        "x_train_cleaned2 = train_data[(train_data[\"label\"] == 1)]['cleaned_tweet']"
      ],
      "metadata": {
        "id": "PBB6N3vEX9ZC"
      },
      "id": "PBB6N3vEX9ZC",
      "execution_count": null,
      "outputs": []
    },
    {
      "cell_type": "code",
      "source": [
        "len(x_train_cleaned1)"
      ],
      "metadata": {
        "colab": {
          "base_uri": "https://localhost:8080/"
        },
        "id": "QGkvIsC0YHFn",
        "outputId": "df165cfb-1326-476f-a89c-7afdf75a9746"
      },
      "id": "QGkvIsC0YHFn",
      "execution_count": null,
      "outputs": [
        {
          "output_type": "execute_result",
          "data": {
            "text/plain": [
              "2783"
            ]
          },
          "metadata": {},
          "execution_count": 235
        }
      ]
    },
    {
      "cell_type": "code",
      "source": [
        "len(x_train_cleaned2)"
      ],
      "metadata": {
        "colab": {
          "base_uri": "https://localhost:8080/"
        },
        "id": "s99S7Xq_YM-u",
        "outputId": "ac1a96cd-771b-4c0d-ddba-f38da1186836"
      },
      "id": "s99S7Xq_YM-u",
      "execution_count": null,
      "outputs": [
        {
          "output_type": "execute_result",
          "data": {
            "text/plain": [
              "5334"
            ]
          },
          "metadata": {},
          "execution_count": 236
        }
      ]
    },
    {
      "cell_type": "code",
      "source": [
        "X_train_tfidf"
      ],
      "metadata": {
        "colab": {
          "base_uri": "https://localhost:8080/"
        },
        "id": "vi2Tqa-xdk-h",
        "outputId": "2e7f69b8-9c8c-47f5-f53d-656f23b947d9"
      },
      "id": "vi2Tqa-xdk-h",
      "execution_count": null,
      "outputs": [
        {
          "output_type": "execute_result",
          "data": {
            "text/plain": [
              "<8117x145479 sparse matrix of type '<class 'numpy.float64'>'\n",
              "\twith 340461 stored elements in Compressed Sparse Row format>"
            ]
          },
          "metadata": {},
          "execution_count": 237
        }
      ]
    },
    {
      "cell_type": "code",
      "source": [
        "import matplotlib.pyplot as plt\n",
        "plt.style.use('ggplot')\n",
        "\n",
        "def plot_history(history):\n",
        "    acc = history.history['accuracy']\n",
        "    val_acc = history.history['val_accuracy']\n",
        "    loss = history.history['loss']\n",
        "    val_loss = history.history['val_loss']\n",
        "    x = range(1, len(acc) + 1)\n",
        "\n",
        "    plt.figure(figsize=(12, 5))\n",
        "    plt.subplot(1, 2, 1)\n",
        "    plt.plot(x, acc, 'b', label='Training acc')\n",
        "    plt.plot(x, val_acc, 'r', label='Validation acc')\n",
        "    plt.title('Training and validation accuracy')\n",
        "    plt.legend()\n",
        "    plt.subplot(1, 2, 2)\n",
        "    plt.plot(x, loss, 'b', label='Training loss')\n",
        "    plt.plot(x, val_loss, 'r', label='Validation loss')\n",
        "    plt.title('Training and validation loss')\n",
        "    plt.legend()"
      ],
      "metadata": {
        "id": "hPVUyBXMKGlj"
      },
      "id": "hPVUyBXMKGlj",
      "execution_count": null,
      "outputs": []
    },
    {
      "cell_type": "code",
      "source": [
        "from keras.preprocessing.text import Tokenizer\n",
        "from keras.models import Sequential\n",
        "from keras import layers\n",
        "#بيعطيني index لكل كلمة بعبر عن الاكثر تكرار\n",
        "tokenizer = Tokenizer(num_words=5000)\n",
        "tokenizer.fit_on_texts(x_train_cleaned)\n",
        "\n",
        "X_train = tokenizer.texts_to_sequences(x_train_cleaned )\n",
        "X_test = tokenizer.texts_to_sequences(x_test_cleaned)\n",
        "X_vlaid = tokenizer.texts_to_sequences(x_valid_cleaned)\n",
        "\n",
        "\n",
        "vocab_size = len(tokenizer.word_index) + 1  # Adding 1 because of reserved 0 index\n",
        "#print(x_train[2])\n",
        "#print(X_train[2])"
      ],
      "metadata": {
        "id": "C8ZY9Cwacl-K"
      },
      "id": "C8ZY9Cwacl-K",
      "execution_count": null,
      "outputs": []
    },
    {
      "cell_type": "code",
      "source": [
        "from keras.preprocessing.sequence import pad_sequences\n",
        "\n",
        "maxlen = 50\n",
        "\n",
        "X_train = pad_sequences(X_train, padding='post', maxlen=maxlen)\n",
        "X_test = pad_sequences(X_test, padding='post', maxlen=maxlen)\n",
        "X_valid = pad_sequences(X_vlaid, padding='post', maxlen=maxlen)\n",
        "X_train1 =X_train.tolist()"
      ],
      "metadata": {
        "id": "HsZv5zVudh4h"
      },
      "id": "HsZv5zVudh4h",
      "execution_count": null,
      "outputs": []
    },
    {
      "cell_type": "code",
      "source": [
        "from keras.backend import clear_session\n",
        "clear_session()"
      ],
      "metadata": {
        "id": "QeoA5VitATMq"
      },
      "id": "QeoA5VitATMq",
      "execution_count": null,
      "outputs": []
    },
    {
      "cell_type": "code",
      "source": [
        "model3 = Sequential()\n",
        "\n",
        "model3.add(Embedding(len(tokenizer.index_word)+1, 32))\n",
        "model3.add(LSTM(32, dropout=0.2, recurrent_dropout=0.2))\n",
        "model3.add(Dense(32, activation='relu'))\n",
        "model3.add(Dense(1, activation='sigmoid'))\n",
        "model3.summary()\n",
        "# Compile the model\n",
        "model3.compile(optimizer='adam',\n",
        "              loss='binary_crossentropy',\n",
        "              metrics=['accuracy'])"
      ],
      "metadata": {
        "colab": {
          "base_uri": "https://localhost:8080/"
        },
        "id": "EeQhurut7y5l",
        "outputId": "598407fe-ff37-410e-cd89-5e1fd1877947"
      },
      "id": "EeQhurut7y5l",
      "execution_count": null,
      "outputs": [
        {
          "output_type": "stream",
          "name": "stdout",
          "text": [
            "Model: \"sequential_2\"\n",
            "_________________________________________________________________\n",
            " Layer (type)                Output Shape              Param #   \n",
            "=================================================================\n",
            " embedding_1 (Embedding)     (None, None, 32)          965440    \n",
            "                                                                 \n",
            " lstm_1 (LSTM)               (None, 32)                8320      \n",
            "                                                                 \n",
            " dense_4 (Dense)             (None, 32)                1056      \n",
            "                                                                 \n",
            " dense_5 (Dense)             (None, 1)                 33        \n",
            "                                                                 \n",
            "=================================================================\n",
            "Total params: 974,849\n",
            "Trainable params: 974,849\n",
            "Non-trainable params: 0\n",
            "_________________________________________________________________\n"
          ]
        }
      ]
    },
    {
      "cell_type": "code",
      "source": [
        "history3 = model3.fit(X_train, y_train,epochs=15,verbose=True,validation_data=(X_valid, y_valid_cleaned),batch_size=10)"
      ],
      "metadata": {
        "colab": {
          "base_uri": "https://localhost:8080/"
        },
        "id": "Kp25ZiSn8IzA",
        "outputId": "8f3f57ac-dd6f-4f79-ca44-4d572a55cf38"
      },
      "id": "Kp25ZiSn8IzA",
      "execution_count": null,
      "outputs": [
        {
          "output_type": "stream",
          "name": "stdout",
          "text": [
            "Epoch 1/15\n",
            "812/812 [==============================] - 66s 77ms/step - loss: 0.6300 - accuracy: 0.6621 - val_loss: 0.5967 - val_accuracy: 0.6994\n",
            "Epoch 2/15\n",
            "812/812 [==============================] - 72s 88ms/step - loss: 0.5803 - accuracy: 0.7272 - val_loss: 0.6129 - val_accuracy: 0.6972\n",
            "Epoch 3/15\n",
            "812/812 [==============================] - 57s 70ms/step - loss: 0.5937 - accuracy: 0.7213 - val_loss: 0.6256 - val_accuracy: 0.6935\n",
            "Epoch 4/15\n",
            "812/812 [==============================] - 60s 74ms/step - loss: 0.5954 - accuracy: 0.7192 - val_loss: 0.6184 - val_accuracy: 0.6927\n",
            "Epoch 5/15\n",
            "812/812 [==============================] - 57s 71ms/step - loss: 0.5921 - accuracy: 0.7226 - val_loss: 0.6168 - val_accuracy: 0.6942\n",
            "Epoch 6/15\n",
            "812/812 [==============================] - 58s 72ms/step - loss: 0.5939 - accuracy: 0.7201 - val_loss: 0.6186 - val_accuracy: 0.6912\n",
            "Epoch 7/15\n",
            "812/812 [==============================] - 58s 71ms/step - loss: 0.5928 - accuracy: 0.7212 - val_loss: 0.6151 - val_accuracy: 0.6957\n",
            "Epoch 8/15\n",
            "812/812 [==============================] - 58s 71ms/step - loss: 0.5899 - accuracy: 0.7238 - val_loss: 0.6115 - val_accuracy: 0.6994\n",
            "Epoch 9/15\n",
            "812/812 [==============================] - 59s 73ms/step - loss: 0.5823 - accuracy: 0.7251 - val_loss: 0.6058 - val_accuracy: 0.6775\n",
            "Epoch 10/15\n",
            "812/812 [==============================] - 57s 71ms/step - loss: 0.5940 - accuracy: 0.6959 - val_loss: 0.6075 - val_accuracy: 0.6771\n",
            "Epoch 11/15\n",
            "812/812 [==============================] - 57s 71ms/step - loss: 0.5907 - accuracy: 0.6939 - val_loss: 0.5988 - val_accuracy: 0.6529\n",
            "Epoch 12/15\n",
            "812/812 [==============================] - 69s 85ms/step - loss: 0.5780 - accuracy: 0.6941 - val_loss: 0.5985 - val_accuracy: 0.7009\n",
            "Epoch 13/15\n",
            "812/812 [==============================] - 72s 88ms/step - loss: 0.5572 - accuracy: 0.7389 - val_loss: 0.5814 - val_accuracy: 0.6860\n",
            "Epoch 14/15\n",
            "812/812 [==============================] - 57s 70ms/step - loss: 0.5431 - accuracy: 0.7368 - val_loss: 0.5776 - val_accuracy: 0.6994\n",
            "Epoch 15/15\n",
            "812/812 [==============================] - 58s 71ms/step - loss: 0.5495 - accuracy: 0.7272 - val_loss: 0.5953 - val_accuracy: 0.6756\n"
          ]
        }
      ]
    },
    {
      "cell_type": "code",
      "source": [
        "loss, accuracy = model3.evaluate(X_train, y_train, verbose=False)\n",
        "print(\"Training Accuracy: {:.4f}\".format(accuracy))\n",
        "loss, accuracy = model3.evaluate(X_test, y_test, verbose=False)\n",
        "print(\"Testing Accuracy:  {:.4f}\".format(accuracy))\n",
        "plot_history(history3)"
      ],
      "metadata": {
        "colab": {
          "base_uri": "https://localhost:8080/",
          "height": 372
        },
        "id": "GDAHbgJO-_KH",
        "outputId": "0a41d3dd-037f-42f8-bed6-d14a28b7d45c"
      },
      "id": "GDAHbgJO-_KH",
      "execution_count": null,
      "outputs": [
        {
          "output_type": "stream",
          "name": "stdout",
          "text": [
            "Training Accuracy: 0.7052\n",
            "Testing Accuracy:  0.6783\n"
          ]
        },
        {
          "output_type": "display_data",
          "data": {
            "image/png": "[encoded data removed]",
            "text/plain": [
              "<Figure size 864x360 with 2 Axes>"
            ]
          },
          "metadata": {}
        }
      ]
    },
    {
      "cell_type": "code",
      "source": [
        "model_comparison_table['model_name'].append(\"model with Embading and lstm\")\n",
        "model_comparison_table['preprocessing_methods'].append(\"removing emojis, removing urls, remove_tweets_img,remov_duplicates,remove_tweets_username,remove_emojis,remove_punctuation,normalizing,normalizeArabic,remove_tweets_extra_white_space,removing_chars,removing_tweet_digits\")\n",
        "model_comparison_table['accuracy'].append(accuracy)"
      ],
      "metadata": {
        "id": "2hW30lgjdpnn"
      },
      "id": "2hW30lgjdpnn",
      "execution_count": null,
      "outputs": []
    },
    {
      "cell_type": "code",
      "source": [
        "from keras.models import Sequential\n",
        "from keras import layers\n",
        "from keras.layers import Dropout\n",
        "\n",
        "input_dim = X_train.shape[1]  # Number of features\n",
        "\n",
        "model = Sequential()\n",
        "\n",
        "model.add(layers.Dense(10, input_dim=input_dim, activation='relu'))\n",
        "model.add(Dropout(0.2, input_shape=(10,)))\n",
        "#model.add(layers.Dense(5, activation='relu'))\n",
        "model.add(layers.Dense(1, activation='sigmoid'))"
      ],
      "metadata": {
        "id": "y8qV9xGhiLQu"
      },
      "id": "y8qV9xGhiLQu",
      "execution_count": null,
      "outputs": []
    },
    {
      "cell_type": "code",
      "source": [
        "model.compile(loss='binary_crossentropy', \n",
        "               optimizer='adam', \n",
        "               metrics=['accuracy'])\n",
        "model.summary()"
      ],
      "metadata": {
        "colab": {
          "base_uri": "https://localhost:8080/"
        },
        "id": "mNjKyNoeiMtp",
        "outputId": "dbdbc189-bf78-4db7-cb65-dfb701b1b636"
      },
      "id": "mNjKyNoeiMtp",
      "execution_count": null,
      "outputs": [
        {
          "output_type": "stream",
          "name": "stdout",
          "text": [
            "Model: \"sequential_1\"\n",
            "_________________________________________________________________\n",
            " Layer (type)                Output Shape              Param #   \n",
            "=================================================================\n",
            " dense_2 (Dense)             (None, 10)                510       \n",
            "                                                                 \n",
            " dropout (Dropout)           (None, 10)                0         \n",
            "                                                                 \n",
            " dense_3 (Dense)             (None, 1)                 11        \n",
            "                                                                 \n",
            "=================================================================\n",
            "Total params: 521\n",
            "Trainable params: 521\n",
            "Non-trainable params: 0\n",
            "_________________________________________________________________\n"
          ]
        }
      ]
    },
    {
      "cell_type": "code",
      "source": [
        "history = model.fit(X_train, y_train,\n",
        "                     epochs=50,\n",
        "                     verbose=True,\n",
        "                     validation_data=(X_valid, y_valid_cleaned),\n",
        "                     batch_size=10)"
      ],
      "metadata": {
        "colab": {
          "base_uri": "https://localhost:8080/"
        },
        "id": "sgQAUoIIiT4T",
        "outputId": "4980eb75-58d5-4392-ebf2-192084481761"
      },
      "id": "sgQAUoIIiT4T",
      "execution_count": null,
      "outputs": [
        {
          "output_type": "stream",
          "name": "stdout",
          "text": [
            "Epoch 1/50\n",
            "812/812 [==============================] - 3s 3ms/step - loss: 109.0760 - accuracy: 0.5368 - val_loss: 15.8461 - val_accuracy: 0.5718\n",
            "Epoch 2/50\n",
            "812/812 [==============================] - 2s 3ms/step - loss: 5.4555 - accuracy: 0.6140 - val_loss: 2.0362 - val_accuracy: 0.6328\n",
            "Epoch 3/50\n",
            "812/812 [==============================] - 2s 3ms/step - loss: 1.1742 - accuracy: 0.6377 - val_loss: 1.1821 - val_accuracy: 0.6469\n",
            "Epoch 4/50\n",
            "812/812 [==============================] - 2s 2ms/step - loss: 0.7774 - accuracy: 0.6325 - val_loss: 0.9446 - val_accuracy: 0.6496\n",
            "Epoch 5/50\n",
            "812/812 [==============================] - 2s 2ms/step - loss: 0.7149 - accuracy: 0.6366 - val_loss: 0.9254 - val_accuracy: 0.5692\n",
            "Epoch 6/50\n",
            "812/812 [==============================] - 2s 2ms/step - loss: 0.6834 - accuracy: 0.6440 - val_loss: 0.8832 - val_accuracy: 0.6257\n",
            "Epoch 7/50\n",
            "812/812 [==============================] - 2s 2ms/step - loss: 0.6724 - accuracy: 0.6454 - val_loss: 0.8364 - val_accuracy: 0.6499\n",
            "Epoch 8/50\n",
            "812/812 [==============================] - 2s 2ms/step - loss: 0.6711 - accuracy: 0.6453 - val_loss: 0.8497 - val_accuracy: 0.6514\n",
            "Epoch 9/50\n",
            "812/812 [==============================] - 2s 3ms/step - loss: 0.6576 - accuracy: 0.6502 - val_loss: 0.8219 - val_accuracy: 0.6514\n",
            "Epoch 10/50\n",
            "812/812 [==============================] - 2s 2ms/step - loss: 0.6550 - accuracy: 0.6533 - val_loss: 0.8165 - val_accuracy: 0.6525\n",
            "Epoch 11/50\n",
            "812/812 [==============================] - 2s 3ms/step - loss: 0.6494 - accuracy: 0.6549 - val_loss: 0.8092 - val_accuracy: 0.6510\n",
            "Epoch 12/50\n",
            "812/812 [==============================] - 2s 3ms/step - loss: 0.6458 - accuracy: 0.6570 - val_loss: 0.8089 - val_accuracy: 0.6518\n",
            "Epoch 13/50\n",
            "812/812 [==============================] - 2s 2ms/step - loss: 0.6432 - accuracy: 0.6576 - val_loss: 0.8062 - val_accuracy: 0.6525\n",
            "Epoch 14/50\n",
            "812/812 [==============================] - 2s 2ms/step - loss: 0.6430 - accuracy: 0.6569 - val_loss: 0.8053 - val_accuracy: 0.6522\n",
            "Epoch 15/50\n",
            "812/812 [==============================] - 2s 3ms/step - loss: 0.6430 - accuracy: 0.6571 - val_loss: 0.8057 - val_accuracy: 0.6507\n",
            "Epoch 16/50\n",
            "812/812 [==============================] - 2s 3ms/step - loss: 0.6426 - accuracy: 0.6575 - val_loss: 0.8059 - val_accuracy: 0.6522\n",
            "Epoch 17/50\n",
            "812/812 [==============================] - 2s 3ms/step - loss: 0.6421 - accuracy: 0.6581 - val_loss: 0.8060 - val_accuracy: 0.6510\n",
            "Epoch 18/50\n",
            "812/812 [==============================] - 2s 3ms/step - loss: 0.6418 - accuracy: 0.6585 - val_loss: 0.8061 - val_accuracy: 0.6522\n",
            "Epoch 19/50\n",
            "812/812 [==============================] - 2s 3ms/step - loss: 0.6411 - accuracy: 0.6580 - val_loss: 0.8100 - val_accuracy: 0.6522\n",
            "Epoch 20/50\n",
            "812/812 [==============================] - 2s 3ms/step - loss: 0.6420 - accuracy: 0.6576 - val_loss: 0.8051 - val_accuracy: 0.6522\n",
            "Epoch 21/50\n",
            "812/812 [==============================] - 2s 3ms/step - loss: 0.6416 - accuracy: 0.6579 - val_loss: 0.8052 - val_accuracy: 0.6510\n",
            "Epoch 22/50\n",
            "812/812 [==============================] - 2s 2ms/step - loss: 0.6413 - accuracy: 0.6580 - val_loss: 0.8065 - val_accuracy: 0.6518\n",
            "Epoch 23/50\n",
            "812/812 [==============================] - 2s 3ms/step - loss: 0.6416 - accuracy: 0.6589 - val_loss: 0.8034 - val_accuracy: 0.6522\n",
            "Epoch 24/50\n",
            "812/812 [==============================] - 2s 3ms/step - loss: 0.6412 - accuracy: 0.6587 - val_loss: 0.8065 - val_accuracy: 0.6510\n",
            "Epoch 25/50\n",
            "812/812 [==============================] - 2s 3ms/step - loss: 0.6427 - accuracy: 0.6579 - val_loss: 0.8076 - val_accuracy: 0.6514\n",
            "Epoch 26/50\n",
            "812/812 [==============================] - 3s 3ms/step - loss: 0.6408 - accuracy: 0.6582 - val_loss: 0.8110 - val_accuracy: 0.6518\n",
            "Epoch 27/50\n",
            "812/812 [==============================] - 2s 3ms/step - loss: 0.6425 - accuracy: 0.6586 - val_loss: 0.8198 - val_accuracy: 0.6518\n",
            "Epoch 28/50\n",
            "812/812 [==============================] - 4s 5ms/step - loss: 0.6407 - accuracy: 0.6591 - val_loss: 0.8147 - val_accuracy: 0.6514\n",
            "Epoch 29/50\n",
            "812/812 [==============================] - 4s 4ms/step - loss: 0.6412 - accuracy: 0.6590 - val_loss: 0.8043 - val_accuracy: 0.6518\n",
            "Epoch 30/50\n",
            "812/812 [==============================] - 2s 3ms/step - loss: 0.6416 - accuracy: 0.6595 - val_loss: 0.8047 - val_accuracy: 0.6518\n",
            "Epoch 31/50\n",
            "812/812 [==============================] - 2s 2ms/step - loss: 0.6411 - accuracy: 0.6587 - val_loss: 0.8048 - val_accuracy: 0.6525\n",
            "Epoch 32/50\n",
            "812/812 [==============================] - 2s 2ms/step - loss: 0.6409 - accuracy: 0.6586 - val_loss: 0.8069 - val_accuracy: 0.6507\n",
            "Epoch 33/50\n",
            "812/812 [==============================] - 2s 3ms/step - loss: 0.6409 - accuracy: 0.6584 - val_loss: 0.8059 - val_accuracy: 0.6518\n",
            "Epoch 34/50\n",
            "812/812 [==============================] - 2s 2ms/step - loss: 0.6408 - accuracy: 0.6587 - val_loss: 0.8029 - val_accuracy: 0.6525\n",
            "Epoch 35/50\n",
            "812/812 [==============================] - 2s 2ms/step - loss: 0.6402 - accuracy: 0.6587 - val_loss: 0.8039 - val_accuracy: 0.6514\n",
            "Epoch 36/50\n",
            "812/812 [==============================] - 2s 2ms/step - loss: 0.6404 - accuracy: 0.6591 - val_loss: 0.8139 - val_accuracy: 0.6514\n",
            "Epoch 37/50\n",
            "812/812 [==============================] - 2s 2ms/step - loss: 0.6397 - accuracy: 0.6594 - val_loss: 0.8124 - val_accuracy: 0.6518\n",
            "Epoch 38/50\n",
            "812/812 [==============================] - 2s 3ms/step - loss: 0.6411 - accuracy: 0.6581 - val_loss: 0.8092 - val_accuracy: 0.6529\n",
            "Epoch 39/50\n",
            "812/812 [==============================] - 2s 2ms/step - loss: 0.6416 - accuracy: 0.6578 - val_loss: 0.8139 - val_accuracy: 0.6518\n",
            "Epoch 40/50\n",
            "812/812 [==============================] - 2s 3ms/step - loss: 0.6391 - accuracy: 0.6594 - val_loss: 0.8140 - val_accuracy: 0.6514\n",
            "Epoch 41/50\n",
            "812/812 [==============================] - 3s 3ms/step - loss: 0.6401 - accuracy: 0.6600 - val_loss: 0.8283 - val_accuracy: 0.6518\n",
            "Epoch 42/50\n",
            "812/812 [==============================] - 2s 3ms/step - loss: 0.6396 - accuracy: 0.6586 - val_loss: 0.8168 - val_accuracy: 0.6522\n",
            "Epoch 43/50\n",
            "812/812 [==============================] - 2s 3ms/step - loss: 0.6390 - accuracy: 0.6592 - val_loss: 0.8178 - val_accuracy: 0.6499\n",
            "Epoch 44/50\n",
            "812/812 [==============================] - 2s 3ms/step - loss: 0.6393 - accuracy: 0.6594 - val_loss: 0.8180 - val_accuracy: 0.6518\n",
            "Epoch 45/50\n",
            "812/812 [==============================] - 4s 4ms/step - loss: 0.6393 - accuracy: 0.6596 - val_loss: 0.8354 - val_accuracy: 0.6507\n",
            "Epoch 46/50\n",
            "812/812 [==============================] - 4s 5ms/step - loss: 0.6407 - accuracy: 0.6587 - val_loss: 0.8178 - val_accuracy: 0.6510\n",
            "Epoch 47/50\n",
            "812/812 [==============================] - 3s 4ms/step - loss: 0.6405 - accuracy: 0.6600 - val_loss: 0.8263 - val_accuracy: 0.6514\n",
            "Epoch 48/50\n",
            "812/812 [==============================] - 4s 4ms/step - loss: 0.6381 - accuracy: 0.6596 - val_loss: 0.8226 - val_accuracy: 0.6514\n",
            "Epoch 49/50\n",
            "812/812 [==============================] - 2s 3ms/step - loss: 0.6391 - accuracy: 0.6586 - val_loss: 0.8253 - val_accuracy: 0.6510\n",
            "Epoch 50/50\n",
            "812/812 [==============================] - 2s 3ms/step - loss: 0.6442 - accuracy: 0.6596 - val_loss: 0.8181 - val_accuracy: 0.6507\n"
          ]
        }
      ]
    },
    {
      "cell_type": "code",
      "source": [
        "loss, accuracy = model.evaluate(X_train, y_train, verbose=False)\n",
        "print(\"Training Accuracy: {:.4f}\".format(accuracy))\n",
        "loss, accuracy = model.evaluate(X_test, y_test, verbose=False)\n",
        "print(\"Testing Accuracy:  {:.4f}\".format(accuracy))\n",
        "plot_history(history)"
      ],
      "metadata": {
        "colab": {
          "base_uri": "https://localhost:8080/",
          "height": 372
        },
        "id": "gamysKLMKgRK",
        "outputId": "57b59081-6f6a-4da9-fbbf-4c9e00028eeb"
      },
      "id": "gamysKLMKgRK",
      "execution_count": null,
      "outputs": [
        {
          "output_type": "stream",
          "name": "stdout",
          "text": [
            "Training Accuracy: 0.6578\n",
            "Testing Accuracy:  0.6654\n"
          ]
        },
        {
          "output_type": "display_data",
          "data": {
            "image/png": "[encoded data removed]",
            "text/plain": [
              "<Figure size 864x360 with 2 Axes>"
            ]
          },
          "metadata": {}
        }
      ]
    },
    {
      "cell_type": "code",
      "source": [
        "model_comparison_table['model_name'].append(\"model with one hidden layer\")\n",
        "model_comparison_table['preprocessing_methods'].append(\"removing emojis, removing urls, remove_tweets_img,remov_duplicates,remove_tweets_username,remove_emojis,remove_punctuation,normalizing,normalizeArabic,remove_tweets_extra_white_space,removing_chars,removing_tweet_digits\")\n",
        "model_comparison_table['accuracy'].append(0.6654)"
      ],
      "metadata": {
        "id": "emelvU8oelWc"
      },
      "id": "emelvU8oelWc",
      "execution_count": null,
      "outputs": []
    },
    {
      "cell_type": "code",
      "source": [
        "model4 = Sequential()\n",
        "\n",
        "model4.add(Embedding(len(tokenizer.index_word)+1, 50))\n",
        "    #model3.add(LSTM(100, dropout=0.2, recurrent_dropout=0))\n",
        "model4.add(GRU(units=32, activation='tanh'))\n",
        "model4.add(Dense(32, activation='relu'))\n",
        "model4.add(Dropout(0.2))\n",
        "model4.add(Dense(1, activation='sigmoid'))\n",
        "model4.summary()\n",
        "    # Compile the model\n",
        "model4.compile(optimizer='adam',\n",
        "              loss='binary_crossentropy',\n",
        "              metrics=['accuracy'])"
      ],
      "metadata": {
        "colab": {
          "base_uri": "https://localhost:8080/"
        },
        "id": "x9a1vh8Re4kd",
        "outputId": "66c1bc7f-5172-4fb9-ab3d-d9b9cd7a94ce"
      },
      "id": "x9a1vh8Re4kd",
      "execution_count": null,
      "outputs": [
        {
          "output_type": "stream",
          "name": "stdout",
          "text": [
            "Model: \"sequential_3\"\n",
            "_________________________________________________________________\n",
            " Layer (type)                Output Shape              Param #   \n",
            "=================================================================\n",
            " embedding_2 (Embedding)     (None, None, 50)          1508500   \n",
            "                                                                 \n",
            " gru (GRU)                   (None, 32)                8064      \n",
            "                                                                 \n",
            " dense_6 (Dense)             (None, 32)                1056      \n",
            "                                                                 \n",
            " dropout_1 (Dropout)         (None, 32)                0         \n",
            "                                                                 \n",
            " dense_7 (Dense)             (None, 1)                 33        \n",
            "                                                                 \n",
            "=================================================================\n",
            "Total params: 1,517,653\n",
            "Trainable params: 1,517,653\n",
            "Non-trainable params: 0\n",
            "_________________________________________________________________\n"
          ]
        }
      ]
    },
    {
      "cell_type": "code",
      "source": [
        "history4 = model4.fit(X_train, y_train,epochs=20,verbose=True,validation_data=(X_valid, y_valid_cleaned),batch_size=10)"
      ],
      "metadata": {
        "colab": {
          "base_uri": "https://localhost:8080/"
        },
        "id": "ikkzyZUqhpv3",
        "outputId": "19539c9f-c8e5-4297-bc55-b81be91e0006"
      },
      "id": "ikkzyZUqhpv3",
      "execution_count": null,
      "outputs": [
        {
          "output_type": "stream",
          "name": "stdout",
          "text": [
            "Epoch 1/20\n",
            "812/812 [==============================] - 45s 52ms/step - loss: 0.6467 - accuracy: 0.6570 - val_loss: 0.6452 - val_accuracy: 0.6525\n",
            "Epoch 2/20\n",
            "812/812 [==============================] - 39s 48ms/step - loss: 0.6435 - accuracy: 0.6596 - val_loss: 0.6443 - val_accuracy: 0.6522\n",
            "Epoch 3/20\n",
            "812/812 [==============================] - 39s 48ms/step - loss: 0.4928 - accuracy: 0.7545 - val_loss: 0.4619 - val_accuracy: 0.7705\n",
            "Epoch 4/20\n",
            "812/812 [==============================] - 38s 46ms/step - loss: 0.3116 - accuracy: 0.8692 - val_loss: 0.5013 - val_accuracy: 0.7746\n",
            "Epoch 5/20\n",
            "812/812 [==============================] - 40s 49ms/step - loss: 0.1984 - accuracy: 0.9245 - val_loss: 0.6203 - val_accuracy: 0.7697\n",
            "Epoch 6/20\n",
            "812/812 [==============================] - 39s 49ms/step - loss: 0.1258 - accuracy: 0.9549 - val_loss: 0.8060 - val_accuracy: 0.7604\n",
            "Epoch 7/20\n",
            "812/812 [==============================] - 38s 47ms/step - loss: 0.0834 - accuracy: 0.9708 - val_loss: 0.8397 - val_accuracy: 0.7578\n",
            "Epoch 8/20\n",
            "812/812 [==============================] - 38s 47ms/step - loss: 0.0600 - accuracy: 0.9786 - val_loss: 1.1574 - val_accuracy: 0.7537\n",
            "Epoch 9/20\n",
            "812/812 [==============================] - 38s 47ms/step - loss: 0.0454 - accuracy: 0.9837 - val_loss: 1.2780 - val_accuracy: 0.7597\n",
            "Epoch 10/20\n",
            "812/812 [==============================] - 39s 48ms/step - loss: 0.0352 - accuracy: 0.9871 - val_loss: 1.3061 - val_accuracy: 0.7556\n",
            "Epoch 11/20\n",
            "812/812 [==============================] - 39s 48ms/step - loss: 0.0313 - accuracy: 0.9877 - val_loss: 1.3081 - val_accuracy: 0.7459\n",
            "Epoch 12/20\n",
            "812/812 [==============================] - 37s 45ms/step - loss: 0.0313 - accuracy: 0.9863 - val_loss: 1.5113 - val_accuracy: 0.7485\n",
            "Epoch 13/20\n",
            "812/812 [==============================] - 37s 46ms/step - loss: 0.0233 - accuracy: 0.9892 - val_loss: 1.6294 - val_accuracy: 0.7571\n",
            "Epoch 14/20\n",
            "812/812 [==============================] - 37s 46ms/step - loss: 0.0216 - accuracy: 0.9911 - val_loss: 1.5397 - val_accuracy: 0.7496\n",
            "Epoch 15/20\n",
            "812/812 [==============================] - 38s 46ms/step - loss: 0.0202 - accuracy: 0.9908 - val_loss: 1.9326 - val_accuracy: 0.7582\n",
            "Epoch 16/20\n",
            "812/812 [==============================] - 39s 48ms/step - loss: 0.0155 - accuracy: 0.9933 - val_loss: 1.8710 - val_accuracy: 0.7474\n",
            "Epoch 17/20\n",
            "812/812 [==============================] - 39s 49ms/step - loss: 0.0168 - accuracy: 0.9935 - val_loss: 1.8549 - val_accuracy: 0.7467\n",
            "Epoch 18/20\n",
            "812/812 [==============================] - 38s 47ms/step - loss: 0.0214 - accuracy: 0.9910 - val_loss: 1.7398 - val_accuracy: 0.7459\n",
            "Epoch 19/20\n",
            "812/812 [==============================] - 38s 47ms/step - loss: 0.0126 - accuracy: 0.9936 - val_loss: 1.9954 - val_accuracy: 0.7481\n",
            "Epoch 20/20\n",
            "812/812 [==============================] - 37s 45ms/step - loss: 0.0113 - accuracy: 0.9946 - val_loss: 2.2047 - val_accuracy: 0.7485\n"
          ]
        }
      ]
    },
    {
      "cell_type": "code",
      "source": [
        "loss, accuracy = model.evaluate(X_train, y_train, verbose=False)\n",
        "print(\"Training Accuracy: {:.4f}\".format(accuracy))\n",
        "loss, accuracy = model.evaluate(X_test, y_test, verbose=False)\n",
        "print(\"Testing Accuracy:  {:.4f}\".format(accuracy))\n",
        "plot_history(history4)"
      ],
      "metadata": {
        "colab": {
          "base_uri": "https://localhost:8080/",
          "height": 372
        },
        "id": "dMeVo1Cyht6g",
        "outputId": "0e7b8e9b-88a2-467c-8fe0-a9a6af5af4f1"
      },
      "id": "dMeVo1Cyht6g",
      "execution_count": null,
      "outputs": [
        {
          "output_type": "stream",
          "name": "stdout",
          "text": [
            "Training Accuracy: 0.6602\n",
            "Testing Accuracy:  0.6636\n"
          ]
        },
        {
          "output_type": "display_data",
          "data": {
            "image/png": "[encoded data removed]",
            "text/plain": [
              "<Figure size 864x360 with 2 Axes>"
            ]
          },
          "metadata": {}
        }
      ]
    },
    {
      "cell_type": "code",
      "source": [
        "model_comparison_table['model_name'].append(\"model with GRU\")\n",
        "model_comparison_table['preprocessing_methods'].append(\"removing emojis, removing urls, remove_tweets_img,remov_duplicates,remove_tweets_username,remove_emojis,remove_punctuation,normalizing,normalizeArabic,remove_tweets_extra_white_space,removing_chars,removing_tweet_digits\")\n",
        "model_comparison_table['accuracy'].append(0.6636)"
      ],
      "metadata": {
        "id": "4NqwpmzamZhC"
      },
      "id": "4NqwpmzamZhC",
      "execution_count": null,
      "outputs": []
    },
    {
      "cell_type": "code",
      "source": [
        "def create_model(num_Lstm,embedding_dim):\n",
        "    model3 = Sequential()\n",
        "\n",
        "    model3.add(Embedding(len(tokenizer.index_word)+1, embedding_dim))#32\n",
        "    model3.add(LSTM(num_Lstm, dropout=0, recurrent_dropout=0))#32 64 100\n",
        "    model3.add(Dense(num_Lstm, activation='relu'))\n",
        "    model3.add(Dense(1, activation='sigmoid'))\n",
        "    model3.summary()\n",
        "    # Compile the model\n",
        "    model3.compile(optimizer='adam',\n",
        "              loss='binary_crossentropy',\n",
        "              metrics=['accuracy'])\n",
        "    return model3"
      ],
      "metadata": {
        "id": "kophlpV7aE9c"
      },
      "id": "kophlpV7aE9c",
      "execution_count": null,
      "outputs": []
    },
    {
      "cell_type": "code",
      "source": [
        "def create_model1(num_Lstm,embedding_dim):\n",
        "    model3 = Sequential()\n",
        "\n",
        "    model3.add(Embedding(len(tokenizer.index_word)+1, 64))\n",
        "    #model3.add(LSTM(100, dropout=0.2, recurrent_dropout=0))\n",
        "    model3.add(GRU(units=50, activation='tanh'))\n",
        "    model3.add(Dense(100, activation='relu'))\n",
        "    model3.add(Dropout(0.2))\n",
        "    model3.add(Dense(1, activation='sigmoid'))\n",
        "    model3.summary()\n",
        "    # Compile the model\n",
        "    model3.compile(optimizer='adam',\n",
        "              loss='binary_crossentropy',\n",
        "              metrics=['accuracy'])\n",
        "    return model3"
      ],
      "metadata": {
        "id": "1lDnA5LI0_88"
      },
      "id": "1lDnA5LI0_88",
      "execution_count": null,
      "outputs": []
    },
    {
      "cell_type": "code",
      "source": [
        "from keras.wrappers.scikit_learn import KerasClassifier\n",
        "from sklearn.model_selection import RandomizedSearchCV\n",
        "# Main settings\n",
        "epochs = 20\n",
        "#embedding_dim = 50\n",
        "maxlen = 10\n",
        "output_file = 'data/output.txt'\n",
        "x_train_cleaned = train_data[(train_data[\"label\"] == 0) | (train_data[\"label\"] == 1)]['cleaned_tweet']\n",
        "y_train = train_data[(train_data[\"label\"] == 0) | (train_data[\"label\"] == 1)]['label']\n",
        "x_test_cleaned = test_data[(test_data[\"label\"] == 0) | (test_data[\"label\"] == 1)]['cleaned_tweet']\n",
        "y_test = test_data[(test_data[\"label\"] == 0) | (test_data[\"label\"] == 1)]['label']\n",
        "\n",
        "\n",
        "# Tokenize words\n",
        "tokenizer = Tokenizer(num_words=5000)\n",
        "tokenizer.fit_on_texts(x_train_cleaned )\n",
        "X_train = tokenizer.texts_to_sequences(x_train_cleaned )\n",
        "X_test = tokenizer.texts_to_sequences(x_test_cleaned )\n",
        "\n",
        "# Adding 1 because of reserved 0 index\n",
        "vocab_size = len(tokenizer.word_index) + 1\n",
        "\n",
        "# Pad sequences with zeros\n",
        "X_train = pad_sequences(X_train, padding='post', maxlen=maxlen)\n",
        "X_test = pad_sequences(X_test, padding='post', maxlen=maxlen)\n",
        "\n",
        "# Parameter grid for grid search  64, 100 ,50,60\n",
        "param_grid = dict(num_Lstm=[32,64], \n",
        "                  embedding_dim=[32,50],)\n",
        "\n",
        "model = KerasClassifier(build_fn=create_model,\n",
        "                            epochs=epochs, batch_size=10,\n",
        "                            verbose=False)\n",
        "\n",
        "grid = RandomizedSearchCV(estimator=model, param_distributions=param_grid,\n",
        "                              cv=4, verbose=1, n_iter=5)\n",
        "\n",
        "grid_result = grid.fit(X_train, y_train)\n",
        "\n",
        "# Evaluate testing set\n",
        "test_accuracy = grid.score(X_test, y_test)\n",
        "print(grid_result.best_score_)\n",
        "print(grid_result.best_params_)\n",
        "print(test_accuracy)\n",
        "# Save and evaluate results\n",
        "s = ('Running {} data set\\nBest Accuracy : '\n",
        "'{:.4f}\\n{}\\nTest Accuracy : {:.4f}\\n\\n')\n",
        "#output_string = s.format(\n",
        "#grid_result.best_score_,\n",
        "#grid_result.best_params_,\n",
        "#test_accuracy)\n",
        "#print(output_string)"
      ],
      "metadata": {
        "colab": {
          "base_uri": "https://localhost:8080/"
        },
        "id": "sMsAVn0b0KsG",
        "outputId": "6e0b8dd9-ada8-4c25-9e88-b6b1ea4c22e7"
      },
      "id": "sMsAVn0b0KsG",
      "execution_count": null,
      "outputs": [
        {
          "output_type": "stream",
          "name": "stderr",
          "text": [
            "/usr/local/lib/python3.7/dist-packages/ipykernel_launcher.py:33: DeprecationWarning: KerasClassifier is deprecated, use Sci-Keras (https://github.com/adriangb/scikeras) instead.\n",
            "/usr/local/lib/python3.7/dist-packages/sklearn/model_selection/_search.py:296: UserWarning: The total space of parameters 4 is smaller than n_iter=5. Running 4 iterations. For exhaustive searches, use GridSearchCV.\n",
            "  UserWarning,\n"
          ]
        },
        {
          "output_type": "stream",
          "name": "stdout",
          "text": [
            "Fitting 4 folds for each of 4 candidates, totalling 16 fits\n",
            "Model: \"sequential_49\"\n",
            "_________________________________________________________________\n",
            " Layer (type)                Output Shape              Param #   \n",
            "=================================================================\n",
            " embedding_49 (Embedding)    (None, None, 32)          965440    \n",
            "                                                                 \n",
            " lstm_48 (LSTM)              (None, 32)                8320      \n",
            "                                                                 \n",
            " dense_98 (Dense)            (None, 32)                1056      \n",
            "                                                                 \n",
            " dense_99 (Dense)            (None, 1)                 33        \n",
            "                                                                 \n",
            "=================================================================\n",
            "Total params: 974,849\n",
            "Trainable params: 974,849\n",
            "Non-trainable params: 0\n",
            "_________________________________________________________________\n",
            "Model: \"sequential_50\"\n",
            "_________________________________________________________________\n",
            " Layer (type)                Output Shape              Param #   \n",
            "=================================================================\n",
            " embedding_50 (Embedding)    (None, None, 32)          965440    \n",
            "                                                                 \n",
            " lstm_49 (LSTM)              (None, 32)                8320      \n",
            "                                                                 \n",
            " dense_100 (Dense)           (None, 32)                1056      \n",
            "                                                                 \n",
            " dense_101 (Dense)           (None, 1)                 33        \n",
            "                                                                 \n",
            "=================================================================\n",
            "Total params: 974,849\n",
            "Trainable params: 974,849\n",
            "Non-trainable params: 0\n",
            "_________________________________________________________________\n",
            "Model: \"sequential_51\"\n",
            "_________________________________________________________________\n",
            " Layer (type)                Output Shape              Param #   \n",
            "=================================================================\n",
            " embedding_51 (Embedding)    (None, None, 32)          965440    \n",
            "                                                                 \n",
            " lstm_50 (LSTM)              (None, 32)                8320      \n",
            "                                                                 \n",
            " dense_102 (Dense)           (None, 32)                1056      \n",
            "                                                                 \n",
            " dense_103 (Dense)           (None, 1)                 33        \n",
            "                                                                 \n",
            "=================================================================\n",
            "Total params: 974,849\n",
            "Trainable params: 974,849\n",
            "Non-trainable params: 0\n",
            "_________________________________________________________________\n",
            "Model: \"sequential_52\"\n",
            "_________________________________________________________________\n",
            " Layer (type)                Output Shape              Param #   \n",
            "=================================================================\n",
            " embedding_52 (Embedding)    (None, None, 32)          965440    \n",
            "                                                                 \n",
            " lstm_51 (LSTM)              (None, 32)                8320      \n",
            "                                                                 \n",
            " dense_104 (Dense)           (None, 32)                1056      \n",
            "                                                                 \n",
            " dense_105 (Dense)           (None, 1)                 33        \n",
            "                                                                 \n",
            "=================================================================\n",
            "Total params: 974,849\n",
            "Trainable params: 974,849\n",
            "Non-trainable params: 0\n",
            "_________________________________________________________________\n",
            "Model: \"sequential_53\"\n",
            "_________________________________________________________________\n",
            " Layer (type)                Output Shape              Param #   \n",
            "=================================================================\n",
            " embedding_53 (Embedding)    (None, None, 32)          965440    \n",
            "                                                                 \n",
            " lstm_52 (LSTM)              (None, 64)                24832     \n",
            "                                                                 \n",
            " dense_106 (Dense)           (None, 64)                4160      \n",
            "                                                                 \n",
            " dense_107 (Dense)           (None, 1)                 65        \n",
            "                                                                 \n",
            "=================================================================\n",
            "Total params: 994,497\n",
            "Trainable params: 994,497\n",
            "Non-trainable params: 0\n",
            "_________________________________________________________________\n",
            "Model: \"sequential_54\"\n",
            "_________________________________________________________________\n",
            " Layer (type)                Output Shape              Param #   \n",
            "=================================================================\n",
            " embedding_54 (Embedding)    (None, None, 32)          965440    \n",
            "                                                                 \n",
            " lstm_53 (LSTM)              (None, 64)                24832     \n",
            "                                                                 \n",
            " dense_108 (Dense)           (None, 64)                4160      \n",
            "                                                                 \n",
            " dense_109 (Dense)           (None, 1)                 65        \n",
            "                                                                 \n",
            "=================================================================\n",
            "Total params: 994,497\n",
            "Trainable params: 994,497\n",
            "Non-trainable params: 0\n",
            "_________________________________________________________________\n",
            "Model: \"sequential_55\"\n",
            "_________________________________________________________________\n",
            " Layer (type)                Output Shape              Param #   \n",
            "=================================================================\n",
            " embedding_55 (Embedding)    (None, None, 32)          965440    \n",
            "                                                                 \n",
            " lstm_54 (LSTM)              (None, 64)                24832     \n",
            "                                                                 \n",
            " dense_110 (Dense)           (None, 64)                4160      \n",
            "                                                                 \n",
            " dense_111 (Dense)           (None, 1)                 65        \n",
            "                                                                 \n",
            "=================================================================\n",
            "Total params: 994,497\n",
            "Trainable params: 994,497\n",
            "Non-trainable params: 0\n",
            "_________________________________________________________________\n",
            "Model: \"sequential_56\"\n",
            "_________________________________________________________________\n",
            " Layer (type)                Output Shape              Param #   \n",
            "=================================================================\n",
            " embedding_56 (Embedding)    (None, None, 32)          965440    \n",
            "                                                                 \n",
            " lstm_55 (LSTM)              (None, 64)                24832     \n",
            "                                                                 \n",
            " dense_112 (Dense)           (None, 64)                4160      \n",
            "                                                                 \n",
            " dense_113 (Dense)           (None, 1)                 65        \n",
            "                                                                 \n",
            "=================================================================\n",
            "Total params: 994,497\n",
            "Trainable params: 994,497\n",
            "Non-trainable params: 0\n",
            "_________________________________________________________________\n",
            "Model: \"sequential_57\"\n",
            "_________________________________________________________________\n",
            " Layer (type)                Output Shape              Param #   \n",
            "=================================================================\n",
            " embedding_57 (Embedding)    (None, None, 50)          1508500   \n",
            "                                                                 \n",
            " lstm_56 (LSTM)              (None, 32)                10624     \n",
            "                                                                 \n",
            " dense_114 (Dense)           (None, 32)                1056      \n",
            "                                                                 \n",
            " dense_115 (Dense)           (None, 1)                 33        \n",
            "                                                                 \n",
            "=================================================================\n",
            "Total params: 1,520,213\n",
            "Trainable params: 1,520,213\n",
            "Non-trainable params: 0\n",
            "_________________________________________________________________\n",
            "Model: \"sequential_58\"\n",
            "_________________________________________________________________\n",
            " Layer (type)                Output Shape              Param #   \n",
            "=================================================================\n",
            " embedding_58 (Embedding)    (None, None, 50)          1508500   \n",
            "                                                                 \n",
            " lstm_57 (LSTM)              (None, 32)                10624     \n",
            "                                                                 \n",
            " dense_116 (Dense)           (None, 32)                1056      \n",
            "                                                                 \n",
            " dense_117 (Dense)           (None, 1)                 33        \n",
            "                                                                 \n",
            "=================================================================\n",
            "Total params: 1,520,213\n",
            "Trainable params: 1,520,213\n",
            "Non-trainable params: 0\n",
            "_________________________________________________________________\n",
            "Model: \"sequential_59\"\n",
            "_________________________________________________________________\n",
            " Layer (type)                Output Shape              Param #   \n",
            "=================================================================\n",
            " embedding_59 (Embedding)    (None, None, 50)          1508500   \n",
            "                                                                 \n",
            " lstm_58 (LSTM)              (None, 32)                10624     \n",
            "                                                                 \n",
            " dense_118 (Dense)           (None, 32)                1056      \n",
            "                                                                 \n",
            " dense_119 (Dense)           (None, 1)                 33        \n",
            "                                                                 \n",
            "=================================================================\n",
            "Total params: 1,520,213\n",
            "Trainable params: 1,520,213\n",
            "Non-trainable params: 0\n",
            "_________________________________________________________________\n",
            "Model: \"sequential_60\"\n",
            "_________________________________________________________________\n",
            " Layer (type)                Output Shape              Param #   \n",
            "=================================================================\n",
            " embedding_60 (Embedding)    (None, None, 50)          1508500   \n",
            "                                                                 \n",
            " lstm_59 (LSTM)              (None, 32)                10624     \n",
            "                                                                 \n",
            " dense_120 (Dense)           (None, 32)                1056      \n",
            "                                                                 \n",
            " dense_121 (Dense)           (None, 1)                 33        \n",
            "                                                                 \n",
            "=================================================================\n",
            "Total params: 1,520,213\n",
            "Trainable params: 1,520,213\n",
            "Non-trainable params: 0\n",
            "_________________________________________________________________\n",
            "Model: \"sequential_61\"\n",
            "_________________________________________________________________\n",
            " Layer (type)                Output Shape              Param #   \n",
            "=================================================================\n",
            " embedding_61 (Embedding)    (None, None, 50)          1508500   \n",
            "                                                                 \n",
            " lstm_60 (LSTM)              (None, 64)                29440     \n",
            "                                                                 \n",
            " dense_122 (Dense)           (None, 64)                4160      \n",
            "                                                                 \n",
            " dense_123 (Dense)           (None, 1)                 65        \n",
            "                                                                 \n",
            "=================================================================\n",
            "Total params: 1,542,165\n",
            "Trainable params: 1,542,165\n",
            "Non-trainable params: 0\n",
            "_________________________________________________________________\n",
            "Model: \"sequential_62\"\n",
            "_________________________________________________________________\n",
            " Layer (type)                Output Shape              Param #   \n",
            "=================================================================\n",
            " embedding_62 (Embedding)    (None, None, 50)          1508500   \n",
            "                                                                 \n",
            " lstm_61 (LSTM)              (None, 64)                29440     \n",
            "                                                                 \n",
            " dense_124 (Dense)           (None, 64)                4160      \n",
            "                                                                 \n",
            " dense_125 (Dense)           (None, 1)                 65        \n",
            "                                                                 \n",
            "=================================================================\n",
            "Total params: 1,542,165\n",
            "Trainable params: 1,542,165\n",
            "Non-trainable params: 0\n",
            "_________________________________________________________________\n",
            "Model: \"sequential_63\"\n",
            "_________________________________________________________________\n",
            " Layer (type)                Output Shape              Param #   \n",
            "=================================================================\n",
            " embedding_63 (Embedding)    (None, None, 50)          1508500   \n",
            "                                                                 \n",
            " lstm_62 (LSTM)              (None, 64)                29440     \n",
            "                                                                 \n",
            " dense_126 (Dense)           (None, 64)                4160      \n",
            "                                                                 \n",
            " dense_127 (Dense)           (None, 1)                 65        \n",
            "                                                                 \n",
            "=================================================================\n",
            "Total params: 1,542,165\n",
            "Trainable params: 1,542,165\n",
            "Non-trainable params: 0\n",
            "_________________________________________________________________\n",
            "Model: \"sequential_64\"\n",
            "_________________________________________________________________\n",
            " Layer (type)                Output Shape              Param #   \n",
            "=================================================================\n",
            " embedding_64 (Embedding)    (None, None, 50)          1508500   \n",
            "                                                                 \n",
            " lstm_63 (LSTM)              (None, 64)                29440     \n",
            "                                                                 \n",
            " dense_128 (Dense)           (None, 64)                4160      \n",
            "                                                                 \n",
            " dense_129 (Dense)           (None, 1)                 65        \n",
            "                                                                 \n",
            "=================================================================\n",
            "Total params: 1,542,165\n",
            "Trainable params: 1,542,165\n",
            "Non-trainable params: 0\n",
            "_________________________________________________________________\n",
            "Model: \"sequential_65\"\n",
            "_________________________________________________________________\n",
            " Layer (type)                Output Shape              Param #   \n",
            "=================================================================\n",
            " embedding_65 (Embedding)    (None, None, 32)          965440    \n",
            "                                                                 \n",
            " lstm_64 (LSTM)              (None, 32)                8320      \n",
            "                                                                 \n",
            " dense_130 (Dense)           (None, 32)                1056      \n",
            "                                                                 \n",
            " dense_131 (Dense)           (None, 1)                 33        \n",
            "                                                                 \n",
            "=================================================================\n",
            "Total params: 974,849\n",
            "Trainable params: 974,849\n",
            "Non-trainable params: 0\n",
            "_________________________________________________________________\n",
            "0.7218187302350998\n",
            "{'num_Lstm': 32, 'embedding_dim': 32}\n",
            "0.7121825814247131\n"
          ]
        }
      ]
    },
    {
      "cell_type": "code",
      "source": [
        "from keras.wrappers.scikit_learn import KerasClassifier\n",
        "from sklearn.model_selection import RandomizedSearchCV\n",
        "# Main settings\n",
        "epochs = 20\n",
        "#embedding_dim = 50\n",
        "maxlen = 10\n",
        "output_file = 'data/output.txt'\n",
        "x_train_cleaned = train_data[(train_data[\"label\"] == 0) | (train_data[\"label\"] == 1)]['cleaned_tweet']\n",
        "y_train = train_data[(train_data[\"label\"] == 0) | (train_data[\"label\"] == 1)]['label']\n",
        "x_test_cleaned = test_data[(test_data[\"label\"] == 0) | (test_data[\"label\"] == 1)]['cleaned_tweet']\n",
        "y_test = test_data[(test_data[\"label\"] == 0) | (test_data[\"label\"] == 1)]['label']\n",
        "\n",
        "\n",
        "# Tokenize words\n",
        "tokenizer = Tokenizer(num_words=5000)\n",
        "tokenizer.fit_on_texts(x_train_cleaned )\n",
        "X_train = tokenizer.texts_to_sequences(x_train_cleaned )\n",
        "X_test = tokenizer.texts_to_sequences(x_test_cleaned )\n",
        "\n",
        "# Adding 1 because of reserved 0 index\n",
        "vocab_size = len(tokenizer.word_index) + 1\n",
        "\n",
        "# Pad sequences with zeros\n",
        "X_train = pad_sequences(X_train, padding='post', maxlen=maxlen)\n",
        "X_test = pad_sequences(X_test, padding='post', maxlen=maxlen)\n",
        "\n",
        "# Parameter grid for grid search  64, 100 ,50,60\n",
        "param_grid = dict(num_Lstm=[32,64], \n",
        "                  embedding_dim=[32,50],)\n",
        "\n",
        "model = KerasClassifier(build_fn=create_model1,\n",
        "                            epochs=epochs, batch_size=10,\n",
        "                            verbose=False)\n",
        "\n",
        "grid = RandomizedSearchCV(estimator=model, param_distributions=param_grid,\n",
        "                              cv=4, verbose=1, n_iter=5)\n",
        "\n",
        "grid_result = grid.fit(X_train, y_train)\n",
        "\n",
        "# Evaluate testing set\n",
        "test_accuracy = grid.score(X_test, y_test)\n",
        "print(grid_result.best_score_)\n",
        "print(grid_result.best_params_)\n",
        "print(test_accuracy)\n",
        "# Save and evaluate results\n",
        "s = ('Running {} data set\\nBest Accuracy : '\n",
        "'{:.4f}\\n{}\\nTest Accuracy : {:.4f}\\n\\n')\n",
        "#output_string = s.format(\n",
        "#grid_result.best_score_,\n",
        "#grid_result.best_params_,\n",
        "#test_accuracy)\n",
        "#print(output_string)"
      ],
      "metadata": {
        "colab": {
          "base_uri": "https://localhost:8080/"
        },
        "id": "kGNj5hEF1Xof",
        "outputId": "acda50d0-2133-4609-d586-451a9390175f"
      },
      "id": "kGNj5hEF1Xof",
      "execution_count": null,
      "outputs": [
        {
          "output_type": "stream",
          "name": "stderr",
          "text": [
            "/usr/local/lib/python3.7/dist-packages/ipykernel_launcher.py:33: DeprecationWarning: KerasClassifier is deprecated, use Sci-Keras (https://github.com/adriangb/scikeras) instead.\n",
            "/usr/local/lib/python3.7/dist-packages/sklearn/model_selection/_search.py:296: UserWarning: The total space of parameters 4 is smaller than n_iter=5. Running 4 iterations. For exhaustive searches, use GridSearchCV.\n",
            "  UserWarning,\n"
          ]
        },
        {
          "output_type": "stream",
          "name": "stdout",
          "text": [
            "Fitting 4 folds for each of 4 candidates, totalling 16 fits\n",
            "Model: \"sequential_66\"\n",
            "_________________________________________________________________\n",
            " Layer (type)                Output Shape              Param #   \n",
            "=================================================================\n",
            " embedding_66 (Embedding)    (None, None, 64)          1930880   \n",
            "                                                                 \n",
            " gru (GRU)                   (None, 50)                17400     \n",
            "                                                                 \n",
            " dense_132 (Dense)           (None, 100)               5100      \n",
            "                                                                 \n",
            " dropout_1 (Dropout)         (None, 100)               0         \n",
            "                                                                 \n",
            " dense_133 (Dense)           (None, 1)                 101       \n",
            "                                                                 \n",
            "=================================================================\n",
            "Total params: 1,953,481\n",
            "Trainable params: 1,953,481\n",
            "Non-trainable params: 0\n",
            "_________________________________________________________________\n",
            "Model: \"sequential_67\"\n",
            "_________________________________________________________________\n",
            " Layer (type)                Output Shape              Param #   \n",
            "=================================================================\n",
            " embedding_67 (Embedding)    (None, None, 64)          1930880   \n",
            "                                                                 \n",
            " gru_1 (GRU)                 (None, 50)                17400     \n",
            "                                                                 \n",
            " dense_134 (Dense)           (None, 100)               5100      \n",
            "                                                                 \n",
            " dropout_2 (Dropout)         (None, 100)               0         \n",
            "                                                                 \n",
            " dense_135 (Dense)           (None, 1)                 101       \n",
            "                                                                 \n",
            "=================================================================\n",
            "Total params: 1,953,481\n",
            "Trainable params: 1,953,481\n",
            "Non-trainable params: 0\n",
            "_________________________________________________________________\n",
            "Model: \"sequential_68\"\n",
            "_________________________________________________________________\n",
            " Layer (type)                Output Shape              Param #   \n",
            "=================================================================\n",
            " embedding_68 (Embedding)    (None, None, 64)          1930880   \n",
            "                                                                 \n",
            " gru_2 (GRU)                 (None, 50)                17400     \n",
            "                                                                 \n",
            " dense_136 (Dense)           (None, 100)               5100      \n",
            "                                                                 \n",
            " dropout_3 (Dropout)         (None, 100)               0         \n",
            "                                                                 \n",
            " dense_137 (Dense)           (None, 1)                 101       \n",
            "                                                                 \n",
            "=================================================================\n",
            "Total params: 1,953,481\n",
            "Trainable params: 1,953,481\n",
            "Non-trainable params: 0\n",
            "_________________________________________________________________\n",
            "Model: \"sequential_69\"\n",
            "_________________________________________________________________\n",
            " Layer (type)                Output Shape              Param #   \n",
            "=================================================================\n",
            " embedding_69 (Embedding)    (None, None, 64)          1930880   \n",
            "                                                                 \n",
            " gru_3 (GRU)                 (None, 50)                17400     \n",
            "                                                                 \n",
            " dense_138 (Dense)           (None, 100)               5100      \n",
            "                                                                 \n",
            " dropout_4 (Dropout)         (None, 100)               0         \n",
            "                                                                 \n",
            " dense_139 (Dense)           (None, 1)                 101       \n",
            "                                                                 \n",
            "=================================================================\n",
            "Total params: 1,953,481\n",
            "Trainable params: 1,953,481\n",
            "Non-trainable params: 0\n",
            "_________________________________________________________________\n",
            "Model: \"sequential_70\"\n",
            "_________________________________________________________________\n",
            " Layer (type)                Output Shape              Param #   \n",
            "=================================================================\n",
            " embedding_70 (Embedding)    (None, None, 64)          1930880   \n",
            "                                                                 \n",
            " gru_4 (GRU)                 (None, 50)                17400     \n",
            "                                                                 \n",
            " dense_140 (Dense)           (None, 100)               5100      \n",
            "                                                                 \n",
            " dropout_5 (Dropout)         (None, 100)               0         \n",
            "                                                                 \n",
            " dense_141 (Dense)           (None, 1)                 101       \n",
            "                                                                 \n",
            "=================================================================\n",
            "Total params: 1,953,481\n",
            "Trainable params: 1,953,481\n",
            "Non-trainable params: 0\n",
            "_________________________________________________________________\n",
            "Model: \"sequential_71\"\n",
            "_________________________________________________________________\n",
            " Layer (type)                Output Shape              Param #   \n",
            "=================================================================\n",
            " embedding_71 (Embedding)    (None, None, 64)          1930880   \n",
            "                                                                 \n",
            " gru_5 (GRU)                 (None, 50)                17400     \n",
            "                                                                 \n",
            " dense_142 (Dense)           (None, 100)               5100      \n",
            "                                                                 \n",
            " dropout_6 (Dropout)         (None, 100)               0         \n",
            "                                                                 \n",
            " dense_143 (Dense)           (None, 1)                 101       \n",
            "                                                                 \n",
            "=================================================================\n",
            "Total params: 1,953,481\n",
            "Trainable params: 1,953,481\n",
            "Non-trainable params: 0\n",
            "_________________________________________________________________\n",
            "Model: \"sequential_72\"\n",
            "_________________________________________________________________\n",
            " Layer (type)                Output Shape              Param #   \n",
            "=================================================================\n",
            " embedding_72 (Embedding)    (None, None, 64)          1930880   \n",
            "                                                                 \n",
            " gru_6 (GRU)                 (None, 50)                17400     \n",
            "                                                                 \n",
            " dense_144 (Dense)           (None, 100)               5100      \n",
            "                                                                 \n",
            " dropout_7 (Dropout)         (None, 100)               0         \n",
            "                                                                 \n",
            " dense_145 (Dense)           (None, 1)                 101       \n",
            "                                                                 \n",
            "=================================================================\n",
            "Total params: 1,953,481\n",
            "Trainable params: 1,953,481\n",
            "Non-trainable params: 0\n",
            "_________________________________________________________________\n",
            "Model: \"sequential_73\"\n",
            "_________________________________________________________________\n",
            " Layer (type)                Output Shape              Param #   \n",
            "=================================================================\n",
            " embedding_73 (Embedding)    (None, None, 64)          1930880   \n",
            "                                                                 \n",
            " gru_7 (GRU)                 (None, 50)                17400     \n",
            "                                                                 \n",
            " dense_146 (Dense)           (None, 100)               5100      \n",
            "                                                                 \n",
            " dropout_8 (Dropout)         (None, 100)               0         \n",
            "                                                                 \n",
            " dense_147 (Dense)           (None, 1)                 101       \n",
            "                                                                 \n",
            "=================================================================\n",
            "Total params: 1,953,481\n",
            "Trainable params: 1,953,481\n",
            "Non-trainable params: 0\n",
            "_________________________________________________________________\n",
            "Model: \"sequential_74\"\n",
            "_________________________________________________________________\n",
            " Layer (type)                Output Shape              Param #   \n",
            "=================================================================\n",
            " embedding_74 (Embedding)    (None, None, 64)          1930880   \n",
            "                                                                 \n",
            " gru_8 (GRU)                 (None, 50)                17400     \n",
            "                                                                 \n",
            " dense_148 (Dense)           (None, 100)               5100      \n",
            "                                                                 \n",
            " dropout_9 (Dropout)         (None, 100)               0         \n",
            "                                                                 \n",
            " dense_149 (Dense)           (None, 1)                 101       \n",
            "                                                                 \n",
            "=================================================================\n",
            "Total params: 1,953,481\n",
            "Trainable params: 1,953,481\n",
            "Non-trainable params: 0\n",
            "_________________________________________________________________\n",
            "Model: \"sequential_75\"\n",
            "_________________________________________________________________\n",
            " Layer (type)                Output Shape              Param #   \n",
            "=================================================================\n",
            " embedding_75 (Embedding)    (None, None, 64)          1930880   \n",
            "                                                                 \n",
            " gru_9 (GRU)                 (None, 50)                17400     \n",
            "                                                                 \n",
            " dense_150 (Dense)           (None, 100)               5100      \n",
            "                                                                 \n",
            " dropout_10 (Dropout)        (None, 100)               0         \n",
            "                                                                 \n",
            " dense_151 (Dense)           (None, 1)                 101       \n",
            "                                                                 \n",
            "=================================================================\n",
            "Total params: 1,953,481\n",
            "Trainable params: 1,953,481\n",
            "Non-trainable params: 0\n",
            "_________________________________________________________________\n",
            "Model: \"sequential_76\"\n",
            "_________________________________________________________________\n",
            " Layer (type)                Output Shape              Param #   \n",
            "=================================================================\n",
            " embedding_76 (Embedding)    (None, None, 64)          1930880   \n",
            "                                                                 \n",
            " gru_10 (GRU)                (None, 50)                17400     \n",
            "                                                                 \n",
            " dense_152 (Dense)           (None, 100)               5100      \n",
            "                                                                 \n",
            " dropout_11 (Dropout)        (None, 100)               0         \n",
            "                                                                 \n",
            " dense_153 (Dense)           (None, 1)                 101       \n",
            "                                                                 \n",
            "=================================================================\n",
            "Total params: 1,953,481\n",
            "Trainable params: 1,953,481\n",
            "Non-trainable params: 0\n",
            "_________________________________________________________________\n",
            "Model: \"sequential_77\"\n",
            "_________________________________________________________________\n",
            " Layer (type)                Output Shape              Param #   \n",
            "=================================================================\n",
            " embedding_77 (Embedding)    (None, None, 64)          1930880   \n",
            "                                                                 \n",
            " gru_11 (GRU)                (None, 50)                17400     \n",
            "                                                                 \n",
            " dense_154 (Dense)           (None, 100)               5100      \n",
            "                                                                 \n",
            " dropout_12 (Dropout)        (None, 100)               0         \n",
            "                                                                 \n",
            " dense_155 (Dense)           (None, 1)                 101       \n",
            "                                                                 \n",
            "=================================================================\n",
            "Total params: 1,953,481\n",
            "Trainable params: 1,953,481\n",
            "Non-trainable params: 0\n",
            "_________________________________________________________________\n",
            "Model: \"sequential_78\"\n",
            "_________________________________________________________________\n",
            " Layer (type)                Output Shape              Param #   \n",
            "=================================================================\n",
            " embedding_78 (Embedding)    (None, None, 64)          1930880   \n",
            "                                                                 \n",
            " gru_12 (GRU)                (None, 50)                17400     \n",
            "                                                                 \n",
            " dense_156 (Dense)           (None, 100)               5100      \n",
            "                                                                 \n",
            " dropout_13 (Dropout)        (None, 100)               0         \n",
            "                                                                 \n",
            " dense_157 (Dense)           (None, 1)                 101       \n",
            "                                                                 \n",
            "=================================================================\n",
            "Total params: 1,953,481\n",
            "Trainable params: 1,953,481\n",
            "Non-trainable params: 0\n",
            "_________________________________________________________________\n",
            "Model: \"sequential_79\"\n",
            "_________________________________________________________________\n",
            " Layer (type)                Output Shape              Param #   \n",
            "=================================================================\n",
            " embedding_79 (Embedding)    (None, None, 64)          1930880   \n",
            "                                                                 \n",
            " gru_13 (GRU)                (None, 50)                17400     \n",
            "                                                                 \n",
            " dense_158 (Dense)           (None, 100)               5100      \n",
            "                                                                 \n",
            " dropout_14 (Dropout)        (None, 100)               0         \n",
            "                                                                 \n",
            " dense_159 (Dense)           (None, 1)                 101       \n",
            "                                                                 \n",
            "=================================================================\n",
            "Total params: 1,953,481\n",
            "Trainable params: 1,953,481\n",
            "Non-trainable params: 0\n",
            "_________________________________________________________________\n",
            "Model: \"sequential_80\"\n",
            "_________________________________________________________________\n",
            " Layer (type)                Output Shape              Param #   \n",
            "=================================================================\n",
            " embedding_80 (Embedding)    (None, None, 64)          1930880   \n",
            "                                                                 \n",
            " gru_14 (GRU)                (None, 50)                17400     \n",
            "                                                                 \n",
            " dense_160 (Dense)           (None, 100)               5100      \n",
            "                                                                 \n",
            " dropout_15 (Dropout)        (None, 100)               0         \n",
            "                                                                 \n",
            " dense_161 (Dense)           (None, 1)                 101       \n",
            "                                                                 \n",
            "=================================================================\n",
            "Total params: 1,953,481\n",
            "Trainable params: 1,953,481\n",
            "Non-trainable params: 0\n",
            "_________________________________________________________________\n",
            "Model: \"sequential_81\"\n",
            "_________________________________________________________________\n",
            " Layer (type)                Output Shape              Param #   \n",
            "=================================================================\n",
            " embedding_81 (Embedding)    (None, None, 64)          1930880   \n",
            "                                                                 \n",
            " gru_15 (GRU)                (None, 50)                17400     \n",
            "                                                                 \n",
            " dense_162 (Dense)           (None, 100)               5100      \n",
            "                                                                 \n",
            " dropout_16 (Dropout)        (None, 100)               0         \n",
            "                                                                 \n",
            " dense_163 (Dense)           (None, 1)                 101       \n",
            "                                                                 \n",
            "=================================================================\n",
            "Total params: 1,953,481\n",
            "Trainable params: 1,953,481\n",
            "Non-trainable params: 0\n",
            "_________________________________________________________________\n",
            "Model: \"sequential_82\"\n",
            "_________________________________________________________________\n",
            " Layer (type)                Output Shape              Param #   \n",
            "=================================================================\n",
            " embedding_82 (Embedding)    (None, None, 64)          1930880   \n",
            "                                                                 \n",
            " gru_16 (GRU)                (None, 50)                17400     \n",
            "                                                                 \n",
            " dense_164 (Dense)           (None, 100)               5100      \n",
            "                                                                 \n",
            " dropout_17 (Dropout)        (None, 100)               0         \n",
            "                                                                 \n",
            " dense_165 (Dense)           (None, 1)                 101       \n",
            "                                                                 \n",
            "=================================================================\n",
            "Total params: 1,953,481\n",
            "Trainable params: 1,953,481\n",
            "Non-trainable params: 0\n",
            "_________________________________________________________________\n",
            "0.7177521884441376\n",
            "{'num_Lstm': 32, 'embedding_dim': 50}\n",
            "0.7184394598007202\n"
          ]
        }
      ]
    },
    {
      "cell_type": "markdown",
      "source": [
        "# Step [4]: Build model with preprocessing methods with all label"
      ],
      "metadata": {
        "id": "XI2aeZz8ozs5"
      },
      "id": "XI2aeZz8ozs5"
    },
    {
      "cell_type": "code",
      "source": [],
      "metadata": {
        "id": "8QEsbVwmm9Ut"
      },
      "id": "8QEsbVwmm9Ut",
      "execution_count": null,
      "outputs": []
    },
    {
      "cell_type": "code",
      "source": [
        "from keras.preprocessing.text import Tokenizer\n",
        "from keras.models import Sequential\n",
        "from keras import layers\n",
        "#بيعطيني index لكل كلمة بعبر عن الاكثر تكرار\n",
        "tokenizer = Tokenizer(num_words=4000)\n",
        "tokenizer.fit_on_texts(x_train_cleaned_all)\n",
        "\n",
        "X_train = tokenizer.texts_to_sequences(x_train_cleaned_all )\n",
        "X_test = tokenizer.texts_to_sequences(x_test_cleaned_all)\n",
        "X_vlaid = tokenizer.texts_to_sequences(x_valid_cleaned_all)\n",
        "\n",
        "\n",
        "vocab_size = len(tokenizer.word_index) + 1  # Adding 1 because of reserved 0 index"
      ],
      "metadata": {
        "id": "5RubYfAQnFCb"
      },
      "id": "5RubYfAQnFCb",
      "execution_count": null,
      "outputs": []
    },
    {
      "cell_type": "code",
      "source": [
        "len(X_train)"
      ],
      "metadata": {
        "colab": {
          "base_uri": "https://localhost:8080/"
        },
        "id": "L7EStrapnaJe",
        "outputId": "a7045f37-5095-4697-f305-cc0dfd69f715"
      },
      "id": "L7EStrapnaJe",
      "execution_count": null,
      "outputs": [
        {
          "output_type": "execute_result",
          "data": {
            "text/plain": [
              "19356"
            ]
          },
          "metadata": {},
          "execution_count": 91
        }
      ]
    },
    {
      "cell_type": "code",
      "source": [
        "from keras.preprocessing.sequence import pad_sequences\n",
        "\n",
        "maxlen = 50\n",
        "\n",
        "X_train = pad_sequences(X_train, padding='post', maxlen=maxlen)\n",
        "X_test = pad_sequences(X_test, padding='post', maxlen=maxlen)\n",
        "X_valid = pad_sequences(X_vlaid, padding='post', maxlen=maxlen)\n",
        "X_train1 =X_train.tolist()"
      ],
      "metadata": {
        "id": "Oi6GIPTqne-w"
      },
      "id": "Oi6GIPTqne-w",
      "execution_count": null,
      "outputs": []
    },
    {
      "cell_type": "code",
      "source": [
        "model5 = Sequential()\n",
        "\n",
        "model5.add(Embedding(len(tokenizer.index_word)+1, 32))\n",
        "#model3.add(LSTM(100, dropout=0.2, recurrent_dropout=0))\n",
        "model5.add(GRU(units=32, activation='tanh'))\n",
        "model5.add(Dense(32, activation='relu'))\n",
        "model5.add(Dropout(0.2))\n",
        "model5.add(Dense(1, activation='sigmoid'))\n",
        "model5.summary()\n",
        "    # Compile the model\n",
        "model5.compile(optimizer='adam',\n",
        "              loss='binary_crossentropy',\n",
        "              metrics=['accuracy'])"
      ],
      "metadata": {
        "colab": {
          "base_uri": "https://localhost:8080/"
        },
        "id": "hlWJ9xqInla_",
        "outputId": "2c29e8d5-18cb-42a8-f636-a31397815c6f"
      },
      "id": "hlWJ9xqInla_",
      "execution_count": null,
      "outputs": [
        {
          "output_type": "stream",
          "name": "stdout",
          "text": [
            "Model: \"sequential_2\"\n",
            "_________________________________________________________________\n",
            " Layer (type)                Output Shape              Param #   \n",
            "=================================================================\n",
            " embedding_2 (Embedding)     (None, None, 32)          1638624   \n",
            "                                                                 \n",
            " gru_2 (GRU)                 (None, 32)                6336      \n",
            "                                                                 \n",
            " dense_4 (Dense)             (None, 32)                1056      \n",
            "                                                                 \n",
            " dropout_2 (Dropout)         (None, 32)                0         \n",
            "                                                                 \n",
            " dense_5 (Dense)             (None, 1)                 33        \n",
            "                                                                 \n",
            "=================================================================\n",
            "Total params: 1,646,049\n",
            "Trainable params: 1,646,049\n",
            "Non-trainable params: 0\n",
            "_________________________________________________________________\n"
          ]
        }
      ]
    },
    {
      "cell_type": "code",
      "source": [
        "model5.compile(optimizer='adam',\n",
        "              loss='binary_crossentropy',\n",
        "              metrics=['accuracy'])"
      ],
      "metadata": {
        "id": "OLEqmPlJnurf"
      },
      "id": "OLEqmPlJnurf",
      "execution_count": null,
      "outputs": []
    },
    {
      "cell_type": "code",
      "source": [
        "history5 = model5.fit(X_train, y_train_all,epochs=20,verbose=True,validation_data=(X_valid, y_valid_cleaned_all),batch_size=10)"
      ],
      "metadata": {
        "id": "IIyyZG_N8oRF"
      },
      "id": "IIyyZG_N8oRF",
      "execution_count": null,
      "outputs": []
    },
    {
      "cell_type": "markdown",
      "id": "b9c515ad",
      "metadata": {
        "id": "b9c515ad"
      },
      "source": [
        "طباعة جدول المقارنة النهائي الذي ستقوم بملئه أثناء الحل"
      ]
    },
    {
      "cell_type": "code",
      "execution_count": null,
      "id": "1747f25c",
      "metadata": {
        "id": "1747f25c",
        "outputId": "3a24f934-f53a-43c8-b302-d89a6804acf1",
        "colab": {
          "base_uri": "https://localhost:8080/",
          "height": 300
        }
      },
      "outputs": [
        {
          "output_type": "execute_result",
          "data": {
            "text/html": [
              "\n",
              "  <div id=\"df-5c58b3c9-39cb-4589-aa39-1da66b4a9f4b\">\n",
              "    <div class=\"colab-df-container\">\n",
              "      <div>\n",
              "<style scoped>\n",
              "    .dataframe tbody tr th:only-of-type {\n",
              "        vertical-align: middle;\n",
              "    }\n",
              "\n",
              "    .dataframe tbody tr th {\n",
              "        vertical-align: top;\n",
              "    }\n",
              "\n",
              "    .dataframe thead th {\n",
              "        text-align: right;\n",
              "    }\n",
              "</style>\n",
              "<table border=\"1\" class=\"dataframe\">\n",
              "  <thead>\n",
              "    <tr style=\"text-align: right;\">\n",
              "      <th></th>\n",
              "      <th>model_name</th>\n",
              "      <th>preprocessing_methods</th>\n",
              "      <th>accuracy</th>\n",
              "    </tr>\n",
              "  </thead>\n",
              "  <tbody>\n",
              "    <tr>\n",
              "      <th>0</th>\n",
              "      <td>logistic regression with bag of words</td>\n",
              "      <td>none</td>\n",
              "      <td>0.785425</td>\n",
              "    </tr>\n",
              "    <tr>\n",
              "      <th>1</th>\n",
              "      <td>logistic regression with bag of words with Bal...</td>\n",
              "      <td>none</td>\n",
              "      <td>0.761870</td>\n",
              "    </tr>\n",
              "    <tr>\n",
              "      <th>2</th>\n",
              "      <td>logistic regression with bag of words with Bal...</td>\n",
              "      <td>removing emojis, removing urls, remove_tweets_...</td>\n",
              "      <td>0.768495</td>\n",
              "    </tr>\n",
              "    <tr>\n",
              "      <th>3</th>\n",
              "      <td>logistic regression with tfidf with Balance</td>\n",
              "      <td>removing emojis, removing urls, remove_tweets_...</td>\n",
              "      <td>0.793522</td>\n",
              "    </tr>\n",
              "    <tr>\n",
              "      <th>4</th>\n",
              "      <td>model with Embading and lstm</td>\n",
              "      <td>removing emojis, removing urls, remove_tweets_...</td>\n",
              "      <td>0.755245</td>\n",
              "    </tr>\n",
              "    <tr>\n",
              "      <th>5</th>\n",
              "      <td>model with one hidden layer</td>\n",
              "      <td>removing emojis, removing urls, remove_tweets_...</td>\n",
              "      <td>0.665400</td>\n",
              "    </tr>\n",
              "    <tr>\n",
              "      <th>6</th>\n",
              "      <td>model with GRU</td>\n",
              "      <td>removing emojis, removing urls, remove_tweets_...</td>\n",
              "      <td>0.663600</td>\n",
              "    </tr>\n",
              "    <tr>\n",
              "      <th>7</th>\n",
              "      <td>model with Embading and lstm</td>\n",
              "      <td>removing emojis, removing urls, remove_tweets_...</td>\n",
              "      <td>0.678322</td>\n",
              "    </tr>\n",
              "  </tbody>\n",
              "</table>\n",
              "</div>\n",
              "      <button class=\"colab-df-convert\" onclick=\"convertToInteractive('df-5c58b3c9-39cb-4589-aa39-1da66b4a9f4b')\"\n",
              "              title=\"Convert this dataframe to an interactive table.\"\n",
              "              style=\"display:none;\">\n",
              "        \n",
              "  <svg xmlns=\"http://www.w3.org/2000/svg\" height=\"24px\"viewBox=\"0 0 24 24\"\n",
              "       width=\"24px\">\n",
              "    <path d=\"M0 0h24v24H0V0z\" fill=\"none\"/>\n",
              "    <path d=\"M18.56 5.44l.94 2.06.94-2.06 2.06-.94-2.06-.94-.94-2.06-.94 2.06-2.06.94zm-11 1L8.5 8.5l.94-2.06 2.06-.94-2.06-.94L8.5 2.5l-.94 2.06-2.06.94zm10 10l.94 2.06.94-2.06 2.06-.94-2.06-.94-.94-2.06-.94 2.06-2.06.94z\"/><path d=\"M17.41 7.96l-1.37-1.37c-.4-.4-.92-.59-1.43-.59-.52 0-1.04.2-1.43.59L10.3 9.45l-7.72 7.72c-.78.78-.78 2.05 0 2.83L4 21.41c.39.39.9.59 1.41.59.51 0 1.02-.2 1.41-.59l7.78-7.78 2.81-2.81c.8-.78.8-2.07 0-2.86zM5.41 20L4 18.59l7.72-7.72 1.47 1.35L5.41 20z\"/>\n",
              "  </svg>\n",
              "      </button>\n",
              "      \n",
              "  <style>\n",
              "    .colab-df-container {\n",
              "      display:flex;\n",
              "      flex-wrap:wrap;\n",
              "      gap: 12px;\n",
              "    }\n",
              "\n",
              "    .colab-df-convert {\n",
              "      background-color: #E8F0FE;\n",
              "      border: none;\n",
              "      border-radius: 50%;\n",
              "      cursor: pointer;\n",
              "      display: none;\n",
              "      fill: #1967D2;\n",
              "      height: 32px;\n",
              "      padding: 0 0 0 0;\n",
              "      width: 32px;\n",
              "    }\n",
              "\n",
              "    .colab-df-convert:hover {\n",
              "      background-color: #E2EBFA;\n",
              "      box-shadow: 0px 1px 2px rgba(60, 64, 67, 0.3), 0px 1px 3px 1px rgba(60, 64, 67, 0.15);\n",
              "      fill: #174EA6;\n",
              "    }\n",
              "\n",
              "    [theme=dark] .colab-df-convert {\n",
              "      background-color: #3B4455;\n",
              "      fill: #D2E3FC;\n",
              "    }\n",
              "\n",
              "    [theme=dark] .colab-df-convert:hover {\n",
              "      background-color: #434B5C;\n",
              "      box-shadow: 0px 1px 3px 1px rgba(0, 0, 0, 0.15);\n",
              "      filter: drop-shadow(0px 1px 2px rgba(0, 0, 0, 0.3));\n",
              "      fill: #FFFFFF;\n",
              "    }\n",
              "  </style>\n",
              "\n",
              "      <script>\n",
              "        const buttonEl =\n",
              "          document.querySelector('#df-5c58b3c9-39cb-4589-aa39-1da66b4a9f4b button.colab-df-convert');\n",
              "        buttonEl.style.display =\n",
              "          google.colab.kernel.accessAllowed ? 'block' : 'none';\n",
              "\n",
              "        async function convertToInteractive(key) {\n",
              "          const element = document.querySelector('#df-5c58b3c9-39cb-4589-aa39-1da66b4a9f4b');\n",
              "          const dataTable =\n",
              "            await google.colab.kernel.invokeFunction('convertToInteractive',\n",
              "                                                     [key], {});\n",
              "          if (!dataTable) return;\n",
              "\n",
              "          const docLinkHtml = 'Like what you see? Visit the ' +\n",
              "            '<a target=\"_blank\" href=https://colab.research.google.com/notebooks/data_table.ipynb>data table notebook</a>'\n",
              "            + ' to learn more about interactive tables.';\n",
              "          element.innerHTML = '';\n",
              "          dataTable['output_type'] = 'display_data';\n",
              "          await google.colab.output.renderOutput(dataTable, element);\n",
              "          const docLink = document.createElement('div');\n",
              "          docLink.innerHTML = docLinkHtml;\n",
              "          element.appendChild(docLink);\n",
              "        }\n",
              "      </script>\n",
              "    </div>\n",
              "  </div>\n",
              "  "
            ],
            "text/plain": [
              "                                          model_name  ...  accuracy\n",
              "0              logistic regression with bag of words  ...  0.785425\n",
              "1  logistic regression with bag of words with Bal...  ...  0.761870\n",
              "2  logistic regression with bag of words with Bal...  ...  0.768495\n",
              "3        logistic regression with tfidf with Balance  ...  0.793522\n",
              "4                       model with Embading and lstm  ...  0.755245\n",
              "5                        model with one hidden layer  ...  0.665400\n",
              "6                                     model with GRU  ...  0.663600\n",
              "7                       model with Embading and lstm  ...  0.678322\n",
              "\n",
              "[8 rows x 3 columns]"
            ]
          },
          "metadata": {},
          "execution_count": 258
        }
      ],
      "source": [
        "import pandas as pd\n",
        "\n",
        "df = pd.DataFrame(model_comparison_table)\n",
        "df"
      ]
    },
    {
      "cell_type": "code",
      "execution_count": null,
      "id": "382f9a49",
      "metadata": {
        "id": "382f9a49"
      },
      "outputs": [],
      "source": [
        "df.to_csv(\"[امل حجازي].csv\", index=False)"
      ]
    },
    {
      "cell_type": "code",
      "source": [],
      "metadata": {
        "id": "Ney66P-8m2HU"
      },
      "id": "Ney66P-8m2HU",
      "execution_count": null,
      "outputs": []
    }
  ],
  "metadata": {
    "kernelspec": {
      "display_name": "Python 3",
      "language": "python",
      "name": "python3"
    },
    "language_info": {
      "codemirror_mode": {
        "name": "ipython",
        "version": 3
      },
      "file_extension": ".py",
      "mimetype": "text/x-python",
      "name": "python",
      "nbconvert_exporter": "python",
      "pygments_lexer": "ipython3",
      "version": "3.8.8"
    },
    "colab": {
      "provenance": [],
      "collapsed_sections": [],
      "toc_visible": true
    },
    "accelerator": "TPU"
  },
  "nbformat": 4,
  "nbformat_minor": 5
}